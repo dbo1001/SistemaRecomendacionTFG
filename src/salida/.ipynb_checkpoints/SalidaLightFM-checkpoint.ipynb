{
 "cells": [
  {
   "cell_type": "markdown",
   "metadata": {},
   "source": [
    "# Salida de resultados   \n",
    "En este notebook se muestran los resultados obtenidos por los distintos modelos con LightFM."
   ]
  },
  {
   "cell_type": "code",
   "execution_count": null,
   "metadata": {
    "collapsed": true
   },
   "outputs": [],
   "source": [
    "import pickle"
   ]
  },
  {
   "cell_type": "markdown",
   "metadata": {},
   "source": [
    "## MovieLens"
   ]
  },
  {
   "cell_type": "code",
   "execution_count": null,
   "metadata": {
    "collapsed": true
   },
   "outputs": [],
   "source": [
    "# Obtención de los datos\n",
    "with open('ml_results.pickel', 'rb') as f:\n",
    "    ml_collab_precision_at_k, ml_collab_auc_score, ml_collab_predictions, \n",
    "    ml_hybrid_precision_at_k, ml_hybrid_auc_score, ml_hybrid_predictions, \n",
    "    ml_content_precision_at_k, ml_content_auc_score, ml_content_predictions = pickle.load(f) "
   ]
  },
  {
   "cell_type": "code",
   "execution_count": null,
   "metadata": {
    "collapsed": true
   },
   "outputs": [],
   "source": [
    "# Salida de los datos\n",
    "print('Precisión k modelo colaborativo: %.4f' % ml_collab_precision_at_k)\n",
    "print('AUC score modelo colaborativo: %.4f' % ml_collab_auc_score)\n",
    "print('Precisión k modelo híbrido: %.4f' % ml_hybrid_precision_at_k)\n",
    "print('AUC score modelo híbrido: %.4f' % ml_hybrid_auc_score)\n",
    "print('Precisión k modelo híbrido: %.4f' % ml_content_precision_at_k)\n",
    "print('AUC score modelo híbrido: %.4f' % ml_content_auc_score)"
   ]
  },
  {
   "cell_type": "markdown",
   "metadata": {},
   "source": [
    "## Anime"
   ]
  },
  {
   "cell_type": "code",
   "execution_count": null,
   "metadata": {
    "collapsed": true
   },
   "outputs": [],
   "source": [
    "# Obtención de los datos\n",
    "with open('anime_results.pickel', 'rb') as f:\n",
    "    anime_collab_precision_at_k, anime_collab_auc_score, anime_collab_predictions, \n",
    "    anime_hybrid_precision_at_k, anime_hybrid_auc_score, anime_hybrid_predictions = pickle.load(f) "
   ]
  },
  {
   "cell_type": "code",
   "execution_count": null,
   "metadata": {
    "collapsed": true
   },
   "outputs": [],
   "source": [
    "# Salida de los datos\n",
    "print('Precisión k modelo colaborativo: %.4f' % anime_collab_precision_at_k)\n",
    "print('AUC score modelo colaborativo: %.4f' % anime_collab_auc_score)\n",
    "print('Precisión k modelo híbrido: %.4f' % anime_hybrid_precision_at_k)\n",
    "print('AUC score modelo híbrido: %.4f' % anime_hybrid_auc_score)"
   ]
  },
  {
   "cell_type": "markdown",
   "metadata": {},
   "source": [
    "## Book-Crossing"
   ]
  },
  {
   "cell_type": "code",
   "execution_count": null,
   "metadata": {
    "collapsed": true
   },
   "outputs": [],
   "source": [
    "# Obtención de los datos\n",
    "with open('bc_results.pickel', 'rb') as f:\n",
    "    bc_collab_precision_at_k, bc_collab_auc_score, bc_collab_predictions, \n",
    "    bc_hybrid_precision_at_k, bc_hybrid_auc_score, bc_hybrid_predictions, \n",
    "    bc_content_precision_at_k, bc_content_auc_score, bc_content_predictions = pickle.load(f)"
   ]
  },
  {
   "cell_type": "code",
   "execution_count": null,
   "metadata": {
    "collapsed": true
   },
   "outputs": [],
   "source": [
    "# Salida de los datos\n",
    "print('Precisión k modelo colaborativo: %.4f' % bc_collab_precision_at_k)\n",
    "print('AUC score modelo colaborativo: %.4f' % bc_collab_auc_score)\n",
    "print('Precisión k modelo híbrido: %.4f' % bc_hybrid_precision_at_k)\n",
    "print('AUC score modelo híbrido: %.4f' % bc_hybrid_auc_score)\n",
    "print('Precisión k modelo híbrido: %.4f' % bc_content_precision_at_k)\n",
    "print('AUC score modelo híbrido: %.4f' % bc_content_auc_score)"
   ]
  },
  {
   "cell_type": "markdown",
   "metadata": {},
   "source": [
    "## LastFM"
   ]
  },
  {
   "cell_type": "code",
   "execution_count": null,
   "metadata": {
    "collapsed": true
   },
   "outputs": [],
   "source": [
    "# Obtención de los datos\n",
    "with open('lf_results.pickel', 'rb') as f:\n",
    "    lf_collab_precision_at_k, lf_collab_auc_score, lf_collab_predictions, \n",
    "    lf_hybrid_precision_at_k, lf_hybrid_auc_score, lf_hybrid_predictions, \n",
    "    lf_content_precision_at_k, lf_content_auc_score, lf_content_predictions = pickle.load(f)"
   ]
  },
  {
   "cell_type": "code",
   "execution_count": null,
   "metadata": {
    "collapsed": true
   },
   "outputs": [],
   "source": [
    "# Salida de los datos\n",
    "print('Precisión k modelo colaborativo: %.4f' % lf_collab_precision_at_k)\n",
    "print('AUC score modelo colaborativo: %.4f' % lf_collab_auc_score)\n",
    "print('Precisión k modelo híbrido: %.4f' % lf_hybrid_precision_at_k)\n",
    "print('AUC score modelo híbrido: %.4f' % lf_hybrid_auc_score)\n",
    "print('Precisión k modelo híbrido: %.4f' % lf_content_precision_at_k)\n",
    "print('AUC score modelo híbrido: %.4f' % lf_content_auc_score)"
   ]
  },
  {
   "cell_type": "markdown",
   "metadata": {},
   "source": [
    "## Dating Agency"
   ]
  },
  {
   "cell_type": "code",
   "execution_count": null,
   "metadata": {
    "collapsed": true
   },
   "outputs": [],
   "source": [
    "# Obtención de los datos\n",
    "with open('dating_results.pickel', 'rb') as f:\n",
    "    dating_collab_precision_at_k, dating_collab_auc_score, dating_collab_predictions, \n",
    "    dating_hybrid_precision_at_k, dating_hybrid_auc_score, dating_hybrid_predictions, \n",
    "    dating_content_precision_at_k, dating_content_auc_score, dating_content_predictions = pickle.load(f)"
   ]
  },
  {
   "cell_type": "code",
   "execution_count": null,
   "metadata": {
    "collapsed": true
   },
   "outputs": [],
   "source": [
    "# Salida de los datos\n",
    "print('Precisión k modelo colaborativo: %.4f' % dating_collab_precision_at_k)\n",
    "print('AUC score modelo colaborativo: %.4f' % dating_collab_auc_score)\n",
    "print('Precisión k modelo híbrido: %.4f' % dating_hybrid_precision_at_k)\n",
    "print('AUC score modelo híbrido: %.4f' % dating_hybrid_auc_score)\n",
    "print('Precisión k modelo híbrido: %.4f' % dating_content_precision_at_k)\n",
    "print('AUC score modelo híbrido: %.4f' % dating_content_auc_score)"
   ]
  }
 ],
 "metadata": {
  "kernelspec": {
   "display_name": "Python 3",
   "language": "python",
   "name": "python3"
  },
  "language_info": {
   "codemirror_mode": {
    "name": "ipython",
    "version": 3
   },
   "file_extension": ".py",
   "mimetype": "text/x-python",
   "name": "python",
   "nbconvert_exporter": "python",
   "pygments_lexer": "ipython3",
   "version": "3.6.8"
  }
 },
 "nbformat": 4,
 "nbformat_minor": 2
}
