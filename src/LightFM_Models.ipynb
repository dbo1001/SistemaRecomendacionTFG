{
 "cells": [
  {
   "cell_type": "markdown",
   "metadata": {},
   "source": [
    "# Sistemas de recomendación con LightFM\n",
    "En este notebook se obtienen los distintos tipos de modelos (colaborativo, basado en contenido e híbrido) con el conjunto de datos de MovieLens y la librería LightFM."
   ]
  },
  {
   "cell_type": "code",
   "execution_count": 18,
   "metadata": {},
   "outputs": [],
   "source": [
    "# Importar todo lo necesario\n",
    "import numpy as np\n",
    "import pandas as pd\n",
    "import scipy as sp\n",
    "import matplotlib.pyplot as plt\n",
    "from lightfm import LightFM\n",
    "from lightfm.evaluation import precision_at_k\n",
    "from lightfm.evaluation import auc_score\n",
    "from lightfm.data import Dataset\n",
    "from lightfm.cross_validation import random_train_test_split\n",
    "\n",
    "import multiprocessing"
   ]
  },
  {
   "cell_type": "code",
   "execution_count": 6,
   "metadata": {},
   "outputs": [],
   "source": [
    "# Obtención del número de hilos del procesador\n",
    "cpu_threads = multiprocessing.cpu_count()"
   ]
  },
  {
   "cell_type": "markdown",
   "metadata": {},
   "source": [
    "## Recomendaciones"
   ]
  },
  {
   "cell_type": "code",
   "execution_count": 7,
   "metadata": {
    "collapsed": true
   },
   "outputs": [],
   "source": [
    "# Pequeña función para ver las recomendaciones\n",
    "def sample_recommendation(model, data, user_ids, items_df):\n",
    "    n_users, n_items = data.shape\n",
    "\n",
    "    for user_id in user_ids:\n",
    "        known_positives = items_df['Título'][data.tocsr()[user_id].indices]\n",
    "        scores = model.predict(user_id, np.arange(n_items))\n",
    "        top_items = items_df['Título'][np.argsort(-scores)]\n",
    "        \n",
    "        print(\"User %s\" % user_id)\n",
    "        print(\"    Known positives:\")\n",
    "        \n",
    "        for x in known_positives[:3]:\n",
    "            print(\"        %s\" % x)\n",
    "            \n",
    "        print(\"    Recommended:\")\n",
    "        \n",
    "        for x in top_items[:3]:\n",
    "            print(\"         %s\" % x)"
   ]
  },
  {
   "cell_type": "code",
   "execution_count": 8,
   "metadata": {
    "collapsed": true
   },
   "outputs": [],
   "source": [
    "# Pequeña función para ver las recomendaciones\n",
    "def sample_recommendation_lastfm(model, data, user_ids, items_df):\n",
    "    n_users, n_items = data.shape\n",
    "\n",
    "    for user_id in user_ids:\n",
    "        known_positives = items_df['Nombre'][data.tocsr()[user_id].indices]\n",
    "        scores = model.predict(user_id, np.arange(n_items))\n",
    "        top_items = items_df['Nombre'][np.argsort(-scores)]\n",
    "        \n",
    "        print(\"User %s\" % user_id)\n",
    "        print(\"    Known positives:\")\n",
    "        \n",
    "        for x in known_positives[:3]:\n",
    "            print(\"        %s\" % x)\n",
    "            \n",
    "        print(\"    Recommended:\")\n",
    "        \n",
    "        for x in top_items[:3]:\n",
    "            print(\"         %s\" % x)"
   ]
  },
  {
   "cell_type": "code",
   "execution_count": 9,
   "metadata": {
    "collapsed": true
   },
   "outputs": [],
   "source": [
    "# Pequeña función para ver las recomendaciones\n",
    "def sample_recommendation_dating(model, data, user_ids, items_df):\n",
    "    n_users, n_items = data.shape\n",
    "\n",
    "    for user_id in user_ids:\n",
    "        known_positives = items_df['Id Match'][data.tocsr()[user_id].indices]\n",
    "        scores = model.predict(user_id, np.arange(n_items))\n",
    "        top_items = items_df['Id Match'][np.argsort(-scores)]\n",
    "        \n",
    "        print(\"User %s\" % user_id)\n",
    "        print(\"    Known positives:\")\n",
    "        \n",
    "        for x in known_positives[:3]:\n",
    "            print(\"        %s\" % x)\n",
    "            \n",
    "        print(\"    Recommended:\")\n",
    "        \n",
    "        for x in top_items[:3]:\n",
    "            print(\"         %s\" % x)"
   ]
  },
  {
   "cell_type": "markdown",
   "metadata": {},
   "source": [
    "## MovieLens"
   ]
  },
  {
   "cell_type": "markdown",
   "metadata": {},
   "source": [
    "### Obtención de los dataframes"
   ]
  },
  {
   "cell_type": "code",
   "execution_count": 10,
   "metadata": {
    "collapsed": true
   },
   "outputs": [],
   "source": [
    "# Obtención del dataframe de datos\n",
    "ml_data_df = pd.read_csv('data/movielens/ml_data.csv', delim_whitespace=True, names=['Id Usuario','Id Película','Valoración','Fecha'])\n",
    "ml_data_df.sort_values(['Id Usuario', 'Id Película'], inplace=True)\n",
    "\n",
    "# Descomentar para comprobar que el dataframe se ha obtenido correctamente\n",
    "#ml_data_df\n",
    "\n",
    "# Obtención del dataframe de usuarios\n",
    "ml_users_df = pd.read_csv('data/movielens/user.csv', sep='|', names=['Id Usuario', 'Edad', 'Género', 'Ocupación', 'Código Postal'])\n",
    "\n",
    "# Descomentar para comprobar que el dataframe se ha obtenido correctamente\n",
    "#ml_users_df\n",
    "\n",
    "# Obtención del dataframe de items\n",
    "ml_items_df = pd.read_csv('data/movielens/ml_items.csv', sep='|',\n",
    "    names=['Id Película','Título','Fecha de estreno','Fecha DVD','iMDB','Género desconocido','Acción','Aventura','Animación','Infantil','Comedia', 'Crimen','Docuemntal','Drama','Fantasía','Cine negro','Horror','Musical','Misterio','Romance','Ciencia ficción','Thriller','Bélico','Western'],\n",
    "    encoding='latin-1')\n",
    "\n",
    "# Descomentar para comprobar que el dataframe se ha obtenido correctamente\n",
    "#ml_items_df"
   ]
  },
  {
   "cell_type": "markdown",
   "metadata": {},
   "source": [
    "### Obtención del dataset y de las matrices   \n",
    "Convierto los dataframes en las estructuras de datos que necesita LightFM para poder sacar las matrices y poder hacer uso de su sistema de recomendación"
   ]
  },
  {
   "cell_type": "code",
   "execution_count": 11,
   "metadata": {
    "collapsed": true
   },
   "outputs": [],
   "source": [
    "# Obtención de los dataset\n",
    "ml_dataset = Dataset()\n",
    "ml_dataset.fit(ml_data_df['Id Usuario'], ml_data_df['Id Película'])\n",
    "ml_dataset.fit_partial(users=ml_users_df['Id Usuario'], items=ml_items_df['Id Película'],\n",
    "                    user_features=ml_users_df['Género'], item_features=ml_items_df['Título'])\n",
    "\n",
    "# Obtención de las matrices\n",
    "(ml_interactions, ml_weights) = ml_dataset.build_interactions((row['Id Usuario'], row['Id Película'], row['Valoración']) for index, row in ml_data_df.iterrows())\n",
    "ml_item_features = ml_dataset.build_item_features((row['Id Película'], [row['Título']]) for index, row in ml_items_df.iterrows())\n",
    "ml_user_features = ml_dataset.build_user_features((row['Id Usuario'], [row['Género']]) for index, row in ml_users_df.iterrows())"
   ]
  },
  {
   "cell_type": "markdown",
   "metadata": {},
   "source": [
    "### División de los datos"
   ]
  },
  {
   "cell_type": "code",
   "execution_count": 12,
   "metadata": {
    "collapsed": true
   },
   "outputs": [],
   "source": [
    "ml_train, ml_test = random_train_test_split(ml_interactions, test_percentage=0.2)"
   ]
  },
  {
   "cell_type": "markdown",
   "metadata": {},
   "source": [
    "### Obtención de los modelos"
   ]
  },
  {
   "cell_type": "markdown",
   "metadata": {},
   "source": [
    "#### Modelo colaborativo"
   ]
  },
  {
   "cell_type": "code",
   "execution_count": 13,
   "metadata": {},
   "outputs": [
    {
     "data": {
      "text/plain": [
       "<lightfm.lightfm.LightFM at 0x28c1adf8358>"
      ]
     },
     "execution_count": 13,
     "metadata": {},
     "output_type": "execute_result"
    }
   ],
   "source": [
    "ml_collab_model = LightFM(loss='warp')\n",
    "ml_collab_model.fit(ml_train, epochs=30, num_threads=cpu_threads)"
   ]
  },
  {
   "cell_type": "code",
   "execution_count": 14,
   "metadata": {},
   "outputs": [
    {
     "data": {
      "text/plain": [
       "\"\\n# Obtención de las predicciones para el primer usuario del conjunto de test\\n\\nml_user_test = ml_test.row[0]\\n\\n# Obtención de un array con los ids de las películas\\nml_list_predictions = list()\\nfor i in range(1682):\\n    ml_list_predictions.append(i)\\n    \\nml_array = np.asarray(ml_list_predictions)\\n\\nml_collab_predictions = ml_collab_model.predict_rank(ml_test, \\n                                                     train_interactions=ml_train, \\n                                                     num_threads=multiprocessing.cpu_count())\\n\\n\\n# Obtención de las predicciones del ml_user\\nml_predictions = ml_collab_model.predict([ml_user_test], ml_array, num_threads=multiprocessing.cpu_count())\\n\\nml_predictions_dict = dict()\\ni = 0\\nfor ml_prediction in ml_predictions:\\n    ml_predictions_dict[i] = ml_prediction\\n    i += 1\\n    \\nml_predictions_df = pd.DataFrame.from_dict(ml_predictions_dict, orient='index', columns=['Score'])\\nml_predictions_df.sort_values(['Score'], ascending=False, inplace=True)\\nprint(ml_predictions_df)\\n\""
      ]
     },
     "execution_count": 14,
     "metadata": {},
     "output_type": "execute_result"
    }
   ],
   "source": [
    "\"\"\"\n",
    "# Obtención de las predicciones para el primer usuario del conjunto de test\n",
    "\n",
    "ml_user_test = ml_test.row[0]\n",
    "\n",
    "# Obtención de un array con los ids de las películas\n",
    "ml_list_predictions = list()\n",
    "for i in range(1682):\n",
    "    ml_list_predictions.append(i)\n",
    "    \n",
    "ml_array = np.asarray(ml_list_predictions)\n",
    "\n",
    "ml_collab_predictions = ml_collab_model.predict_rank(ml_test, \n",
    "                                                     train_interactions=ml_train, \n",
    "                                                     num_threads=multiprocessing.cpu_count())\n",
    "\n",
    "\n",
    "# Obtención de las predicciones del ml_user\n",
    "ml_predictions = ml_collab_model.predict([ml_user_test], ml_array, num_threads=multiprocessing.cpu_count())\n",
    "\n",
    "ml_predictions_dict = dict()\n",
    "i = 0\n",
    "for ml_prediction in ml_predictions:\n",
    "    ml_predictions_dict[i] = ml_prediction\n",
    "    i += 1\n",
    "    \n",
    "ml_predictions_df = pd.DataFrame.from_dict(ml_predictions_dict, orient='index', columns=['Score'])\n",
    "ml_predictions_df.sort_values(['Score'], ascending=False, inplace=True)\n",
    "print(ml_predictions_df)\n",
    "\"\"\""
   ]
  },
  {
   "cell_type": "code",
   "execution_count": 15,
   "metadata": {
    "collapsed": true
   },
   "outputs": [],
   "source": [
    "# Obtención de la precisión k con el modelo colaborativo\n",
    "ml_collab_precision_at_k = precision_at_k(ml_collab_model, ml_test, \n",
    "                                          train_interactions=ml_train, k=10, num_threads=cpu_threads).mean()"
   ]
  },
  {
   "cell_type": "code",
   "execution_count": 20,
   "metadata": {},
   "outputs": [],
   "source": [
    "# Obtención del AUC score con el modelo colaborativo\n",
    "ml_collab_auc_score = auc_score(ml_collab_model, ml_test, train_interactions=ml_train, num_threads=cpu_threads).mean()"
   ]
  },
  {
   "cell_type": "code",
   "execution_count": 21,
   "metadata": {},
   "outputs": [
    {
     "name": "stdout",
     "output_type": "stream",
     "text": [
      "Precisión k: 0.33\n",
      "AUC score: 0.93\n"
     ]
    }
   ],
   "source": [
    "print('Precisión k: %.2f' % ml_collab_precision_at_k)\n",
    "print('AUC score: %.2f' % ml_collab_auc_score)"
   ]
  },
  {
   "cell_type": "markdown",
   "metadata": {},
   "source": [
    "#### Modelo híbrido"
   ]
  },
  {
   "cell_type": "code",
   "execution_count": 22,
   "metadata": {},
   "outputs": [
    {
     "data": {
      "text/plain": [
       "<lightfm.lightfm.LightFM at 0x28c1b487ac8>"
      ]
     },
     "execution_count": 22,
     "metadata": {},
     "output_type": "execute_result"
    }
   ],
   "source": [
    "ml_hybrid_model = LightFM(loss='warp')\n",
    "ml_hybrid_model.fit(ml_train, item_features=ml_item_features, epochs=30, num_threads=cpu_threads)"
   ]
  },
  {
   "cell_type": "code",
   "execution_count": 23,
   "metadata": {
    "collapsed": true
   },
   "outputs": [],
   "source": [
    "ml_hybrid_predictions = ml_hybrid_model.predict_rank(ml_test, train_interactions=ml_train, \n",
    "                                                     item_features=ml_item_features,  \n",
    "                                                     num_threads=multiprocessing.cpu_count())"
   ]
  },
  {
   "cell_type": "code",
   "execution_count": 24,
   "metadata": {
    "collapsed": true
   },
   "outputs": [],
   "source": [
    "#sample_recommendation(ml_hybrid_model, ml_interactions, [3, 25, 450], ml_items_df)"
   ]
  },
  {
   "cell_type": "code",
   "execution_count": 25,
   "metadata": {
    "collapsed": true
   },
   "outputs": [],
   "source": [
    "# Obtención de la precisión k con el modelo híbrido\n",
    "ml_hybrid_precision_at_k = precision_at_k(ml_hybrid_model, ml_test, train_interactions=ml_train, \n",
    "                                          item_features=ml_item_features, k=10, num_threads=cpu_threads).mean()"
   ]
  },
  {
   "cell_type": "code",
   "execution_count": 26,
   "metadata": {
    "collapsed": true
   },
   "outputs": [],
   "source": [
    "# Obtención del AUC score con el modelo híbrido\n",
    "ml_hybrid_auc_score = auc_score(ml_hybrid_model, ml_test, train_interactions=ml_train, \n",
    "                                item_features=ml_item_features, num_threads=cpu_threads).mean()"
   ]
  },
  {
   "cell_type": "code",
   "execution_count": 27,
   "metadata": {},
   "outputs": [
    {
     "name": "stdout",
     "output_type": "stream",
     "text": [
      "Precisión k: 0.34\n",
      "AUC score: 0.93\n"
     ]
    }
   ],
   "source": [
    "print('Precisión k: %.2f' % ml_hybrid_precision_at_k)\n",
    "print('AUC score: %.2f' % ml_hybrid_auc_score)"
   ]
  },
  {
   "cell_type": "markdown",
   "metadata": {},
   "source": [
    "#### Modelo por contenido"
   ]
  },
  {
   "cell_type": "code",
   "execution_count": 28,
   "metadata": {},
   "outputs": [
    {
     "data": {
      "text/plain": [
       "<lightfm.lightfm.LightFM at 0x28c1b497a58>"
      ]
     },
     "execution_count": 28,
     "metadata": {},
     "output_type": "execute_result"
    }
   ],
   "source": [
    "ml_content_model = LightFM(loss='warp')\n",
    "ml_content_model.fit(ml_train, user_features=ml_user_features, item_features=ml_item_features, \n",
    "                     epochs=30, num_threads=cpu_threads)"
   ]
  },
  {
   "cell_type": "code",
   "execution_count": 29,
   "metadata": {
    "collapsed": true
   },
   "outputs": [],
   "source": [
    "#sample_recommendation(ml_content_model, ml_interactions, [3, 25, 450], ml_items_df)"
   ]
  },
  {
   "cell_type": "code",
   "execution_count": 30,
   "metadata": {
    "collapsed": true
   },
   "outputs": [],
   "source": [
    "ml_content_predictions = ml_content_model.predict_rank(ml_test, train_interactions=ml_train, \n",
    "                                                       item_features=ml_item_features, \n",
    "                                                       user_features=ml_user_features, \n",
    "                                                       num_threads=cpu_threads)"
   ]
  },
  {
   "cell_type": "code",
   "execution_count": 31,
   "metadata": {
    "collapsed": true
   },
   "outputs": [],
   "source": [
    "# Obtención de la precisión k con el modelo por contenido\n",
    "ml_content_precision_at_k = precision_at_k(ml_content_model, ml_test, train_interactions=ml_train, \n",
    "                                           user_features=ml_user_features, \n",
    "                                           item_features=ml_item_features, k=10, num_threads=cpu_threads).mean()"
   ]
  },
  {
   "cell_type": "code",
   "execution_count": 32,
   "metadata": {
    "collapsed": true
   },
   "outputs": [],
   "source": [
    "# Obtención del AUC score con el modelo por contenido\n",
    "ml_content_auc_score = auc_score(ml_content_model, ml_test, train_interactions=ml_train, \n",
    "                                 user_features=ml_user_features, \n",
    "                                 item_features=ml_item_features, num_threads=cpu_threads).mean()"
   ]
  },
  {
   "cell_type": "code",
   "execution_count": 33,
   "metadata": {},
   "outputs": [
    {
     "name": "stdout",
     "output_type": "stream",
     "text": [
      "Precisión k: 0.31\n",
      "AUC score: 0.92\n"
     ]
    }
   ],
   "source": [
    "print('Precisión k: %.2f' % ml_content_precision_at_k)\n",
    "print('AUC score: %.2f' % ml_content_auc_score)"
   ]
  },
  {
   "cell_type": "markdown",
   "metadata": {},
   "source": [
    "## Anime"
   ]
  },
  {
   "cell_type": "markdown",
   "metadata": {},
   "source": [
    "### Obtención de los dataframes"
   ]
  },
  {
   "cell_type": "code",
   "execution_count": 34,
   "metadata": {
    "collapsed": true
   },
   "outputs": [],
   "source": [
    "# Obtención del dataframe de items\n",
    "anime_items_df = pd.read_csv('data/anime/anime.csv', sep=',', \n",
    "    names=['Id Anime', 'Título', 'Género', 'Tipo', 'Episodios', 'Valoración Media', 'Miembros'])\n",
    "anime_items_df.sort_values(['Id Anime'], inplace=True)\n",
    "\n",
    "# Descomentar para comprobar que el dataframe se ha obtenido correctamente\n",
    "#anime_items_df\n",
    "\n",
    "# Obtención del dataframe de datos\n",
    "anime_data1_df = pd.read_csv('data/anime/ratings1.csv', sep=',', names=['Id Usuario', 'Id Anime', 'Valoración'], low_memory=False)\n",
    "anime_data2_df = pd.read_csv('data/anime/ratings2.csv', sep=',', names=['Id Usuario', 'Id Anime', 'Valoración'], low_memory=False)\n",
    "anime_data3_df = pd.read_csv('data/anime/ratings3.csv', sep=',', names=['Id Usuario', 'Id Anime', 'Valoración'], low_memory=False)\n",
    "anime_data4_df = pd.read_csv('data/anime/ratings4.csv', sep=',', names=['Id Usuario', 'Id Anime', 'Valoración'], low_memory=False)\n",
    "anime_data_df = pd.concat([anime_data1_df, anime_data2_df, anime_data3_df, anime_data4_df])\n",
    "\n",
    "# Descomentar para comprobar que el dataframe se ha obtenido correctamente\n",
    "#anime_data_df"
   ]
  },
  {
   "cell_type": "markdown",
   "metadata": {},
   "source": [
    "### Obtención del dataset y de las matrices  \n",
    "Convierto los dataframes en las estructuras de datos que necesita LightFM para poder sacar las matrices y poder hacer uso de su sistema de recomendación"
   ]
  },
  {
   "cell_type": "code",
   "execution_count": 35,
   "metadata": {
    "collapsed": true
   },
   "outputs": [],
   "source": [
    "# Obtención de los dataset\n",
    "anime_dataset = Dataset()\n",
    "anime_dataset.fit(anime_data_df['Id Usuario'], anime_data_df['Id Anime'])\n",
    "anime_dataset.fit_partial(items=anime_items_df['Id Anime'], item_features=anime_items_df['Título'])\n",
    "\n",
    "# Obtención de las matrices\n",
    "(anime_interactions, anime_weights) = anime_dataset.build_interactions((row['Id Usuario'], row['Id Anime'], row['Valoración']) for index, row in anime_data_df.iterrows())\n",
    "anime_item_features = anime_dataset.build_item_features((row['Id Anime'], [row['Título']]) for index, row in anime_items_df.iterrows())"
   ]
  },
  {
   "cell_type": "markdown",
   "metadata": {},
   "source": [
    "### División de los datos"
   ]
  },
  {
   "cell_type": "code",
   "execution_count": 36,
   "metadata": {
    "collapsed": true
   },
   "outputs": [],
   "source": [
    "anime_train, anime_test = random_train_test_split(anime_interactions, test_percentage=0.2)"
   ]
  },
  {
   "cell_type": "markdown",
   "metadata": {},
   "source": [
    "### Obtención de los modelos"
   ]
  },
  {
   "cell_type": "markdown",
   "metadata": {},
   "source": [
    "#### Modelo colaborativo"
   ]
  },
  {
   "cell_type": "code",
   "execution_count": 37,
   "metadata": {},
   "outputs": [
    {
     "data": {
      "text/plain": [
       "<lightfm.lightfm.LightFM at 0x28c1b4b59e8>"
      ]
     },
     "execution_count": 37,
     "metadata": {},
     "output_type": "execute_result"
    }
   ],
   "source": [
    "anime_collab_model = LightFM(loss='warp')\n",
    "anime_collab_model.fit(anime_train, epochs=30, num_threads=cpu_threads)"
   ]
  },
  {
   "cell_type": "code",
   "execution_count": 38,
   "metadata": {
    "collapsed": true
   },
   "outputs": [],
   "source": [
    "#sample_recommendation(anime_collab_model, anime_interactions, [3, 25, 450], anime_items_df)"
   ]
  },
  {
   "cell_type": "code",
   "execution_count": 27,
   "metadata": {
    "collapsed": true
   },
   "outputs": [],
   "source": [
    "anime_collab_predictions = anime_collab_model.predict_rank(anime_test, \n",
    "                                                           train_interactions=anime_train, \n",
    "                                                           num_threads=cpu_threads,\n",
    "                                                           check_intersections=False)"
   ]
  },
  {
   "cell_type": "code",
   "execution_count": 40,
   "metadata": {},
   "outputs": [],
   "source": [
    "# Obtención de la precisión k con el modelo colaborativo\n",
    "anime_collab_precision_at_k = precision_at_k(anime_collab_model, anime_test, \n",
    "                                             train_interactions=anime_train, k=10, num_threads=cpu_threads, \n",
    "                                             check_intersections=False).mean()"
   ]
  },
  {
   "cell_type": "code",
   "execution_count": 41,
   "metadata": {
    "collapsed": true
   },
   "outputs": [],
   "source": [
    "# Obtención del AUC score con el modelo colaborativo\n",
    "anime_collab_auc_score = auc_score(anime_collab_model, anime_test, \n",
    "                                   train_interactions=anime_train, num_threads=cpu_threads, check_intersections=False).mean()"
   ]
  },
  {
   "cell_type": "code",
   "execution_count": 42,
   "metadata": {},
   "outputs": [
    {
     "name": "stdout",
     "output_type": "stream",
     "text": [
      "Precisión k: 0.26\n",
      "AUC score: 0.98\n"
     ]
    }
   ],
   "source": [
    "print('Precisión k: %.2f' % anime_collab_precision_at_k)\n",
    "print('AUC score: %.2f' % anime_collab_auc_score)"
   ]
  },
  {
   "cell_type": "markdown",
   "metadata": {},
   "source": [
    "#### Modelo híbrido"
   ]
  },
  {
   "cell_type": "code",
   "execution_count": 43,
   "metadata": {},
   "outputs": [
    {
     "data": {
      "text/plain": [
       "<lightfm.lightfm.LightFM at 0x28c1b497710>"
      ]
     },
     "execution_count": 43,
     "metadata": {},
     "output_type": "execute_result"
    }
   ],
   "source": [
    "anime_hybrid_model = LightFM(loss='warp')\n",
    "anime_hybrid_model.fit(anime_interactions, \n",
    "                       item_features=anime_item_features, \n",
    "                       epochs=30, num_threads=cpu_threads)"
   ]
  },
  {
   "cell_type": "code",
   "execution_count": 29,
   "metadata": {
    "collapsed": true
   },
   "outputs": [],
   "source": [
    "#sample_recommendation(anime_hybrid_model, anime_interactions, [3, 25, 450], anime_items_df)"
   ]
  },
  {
   "cell_type": "code",
   "execution_count": 30,
   "metadata": {
    "collapsed": true
   },
   "outputs": [],
   "source": [
    "anime_hybrid_predictions = anime_hybrid_model.predict_rank(anime_test, \n",
    "                                                           train_interactions=anime_train, \n",
    "                                                           item_features=anime_item_features, \n",
    "                                                           num_threads=cpu_threads,\n",
    "                                                           check_intersections=False)"
   ]
  },
  {
   "cell_type": "code",
   "execution_count": 44,
   "metadata": {
    "collapsed": true
   },
   "outputs": [],
   "source": [
    "# Obtención de la precisión k con el modelo híbrido\n",
    "anime_hybrid_precision_at_k = precision_at_k(anime_hybrid_model, anime_test, train_interactions=anime_train, \n",
    "                                             item_features=anime_item_features, k=10, num_threads=cpu_threads, \n",
    "                                             check_intersections=False).mean()"
   ]
  },
  {
   "cell_type": "code",
   "execution_count": 45,
   "metadata": {
    "collapsed": true
   },
   "outputs": [],
   "source": [
    "# Obtención del AUC score con el modelo híbrido\n",
    "anime_hybrid_auc_score = auc_score(anime_hybrid_model, anime_test, train_interactions=anime_train, \n",
    "                                item_features=anime_item_features, num_threads=cpu_threads, check_intersections=False).mean()"
   ]
  },
  {
   "cell_type": "code",
   "execution_count": 46,
   "metadata": {},
   "outputs": [
    {
     "name": "stdout",
     "output_type": "stream",
     "text": [
      "Precisión k: 0.28\n",
      "AUC score: 0.98\n"
     ]
    }
   ],
   "source": [
    "print('Precisión k: %.2f' % anime_hybrid_precision_at_k)\n",
    "print('AUC score: %.2f' % anime_hybrid_auc_score)"
   ]
  },
  {
   "cell_type": "markdown",
   "metadata": {},
   "source": [
    "## Book-Crossing"
   ]
  },
  {
   "cell_type": "markdown",
   "metadata": {},
   "source": [
    "### Obtención de los dataframes"
   ]
  },
  {
   "cell_type": "code",
   "execution_count": 47,
   "metadata": {
    "collapsed": true
   },
   "outputs": [],
   "source": [
    "# Obtención del dataframe de datos\n",
    "bc_data_df = pd.read_csv('data/book-crossing/BX-Book-Ratings.csv', sep=';', names=['Id Usuario','ISBN','Valoración'], encoding='cp1252', low_memory=False)\n",
    "bc_data_df.sort_values(['Id Usuario'], inplace=True)\n",
    "\n",
    "# Descomentar para comprobar que el dataframe se ha obtenido correctamente\n",
    "#bc_data_df\n",
    "\n",
    "# Obtención del dataframe de usuarios\n",
    "bc_users_df = pd.read_csv('data/book-crossing/BX-Users.csv', sep=';', names=['Id Usuario', 'Residencia', 'Edad'], encoding='cp1252')\n",
    "bc_users_df = bc_users_df.fillna(0)\n",
    "\n",
    "# Descomentar para comprobar que el dataframe se ha obtenido correctamente\n",
    "#bc_users_df\n",
    "\n",
    "# Obtención del dataframe de items\n",
    "bc_items_df = pd.read_csv('data/book-crossing/BX-Books.csv', sep=';', names=['ISBN','Título','Autor','Fecha de publicación','Editorial','URL S','URL M','URL L'], encoding='cp1252', low_memory=False)\n",
    "\n",
    "# Descomentar para comprobar que el dataframe se ha obtenido correctamente\n",
    "#bc_items_df"
   ]
  },
  {
   "cell_type": "markdown",
   "metadata": {},
   "source": [
    "### Obtención del dataset y de las matrices  \n",
    "Convierto los dataframes en las estructuras de datos que necesita LightFM para poder sacar las matrices y poder hacer uso de su sistema de recomendación"
   ]
  },
  {
   "cell_type": "code",
   "execution_count": 48,
   "metadata": {
    "collapsed": true
   },
   "outputs": [],
   "source": [
    "# Obtención de los dataset\n",
    "bc_dataset = Dataset()\n",
    "bc_dataset.fit(bc_data_df['Id Usuario'], bc_data_df['ISBN'])\n",
    "bc_dataset.fit_partial(users=bc_users_df['Id Usuario'], items=bc_items_df['ISBN'],\n",
    "                    user_features=bc_users_df['Edad'], item_features=bc_items_df['Título'])\n",
    "\n",
    "#num_users, num_items = bc_dataset.interactions_shape()\n",
    "#print('Num users: {}, num_items {}.'.format(num_users, num_items))\n",
    "\n",
    "# Obtención de las matrices\n",
    "(bc_interactions, bc_weights) = bc_dataset.build_interactions((row['Id Usuario'], row['ISBN'], row['Valoración']) for index, row in bc_data_df.iterrows())\n",
    "bc_item_features = bc_dataset.build_item_features((row['ISBN'], [row['Título']]) for index, row in bc_items_df.iterrows())\n",
    "bc_user_features = bc_dataset.build_user_features((row['Id Usuario'], [row['Edad']]) for index, row in bc_users_df.iterrows())"
   ]
  },
  {
   "cell_type": "markdown",
   "metadata": {},
   "source": [
    "### División de los datos"
   ]
  },
  {
   "cell_type": "code",
   "execution_count": 49,
   "metadata": {
    "collapsed": true
   },
   "outputs": [],
   "source": [
    "bc_train, bc_test = random_train_test_split(bc_interactions, test_percentage=0.2)"
   ]
  },
  {
   "cell_type": "markdown",
   "metadata": {},
   "source": [
    "### Obtención de los modelos"
   ]
  },
  {
   "cell_type": "markdown",
   "metadata": {},
   "source": [
    "#### Modelo colaborativo"
   ]
  },
  {
   "cell_type": "code",
   "execution_count": 50,
   "metadata": {},
   "outputs": [
    {
     "data": {
      "text/plain": [
       "<lightfm.lightfm.LightFM at 0x28c1c6d2c88>"
      ]
     },
     "execution_count": 50,
     "metadata": {},
     "output_type": "execute_result"
    }
   ],
   "source": [
    "bc_collab_model = LightFM(loss='warp')\n",
    "bc_collab_model.fit(bc_train, epochs=30, num_threads=cpu_threads)"
   ]
  },
  {
   "cell_type": "code",
   "execution_count": 35,
   "metadata": {
    "collapsed": true
   },
   "outputs": [],
   "source": [
    "#sample_recommendation(bc_collab_model, bc_interactions, [3, 25, 450], bc_items_df)"
   ]
  },
  {
   "cell_type": "code",
   "execution_count": 39,
   "metadata": {
    "collapsed": true
   },
   "outputs": [],
   "source": [
    "bc_collab_predictions = bc_collab_model.predict_rank(bc_test, \n",
    "                                                     train_interactions=bc_train, \n",
    "                                                     num_threads=cpu_threads)"
   ]
  },
  {
   "cell_type": "code",
   "execution_count": 51,
   "metadata": {
    "collapsed": true
   },
   "outputs": [],
   "source": [
    "# Obtención de la precisión k con el modelo colaborativo\n",
    "bc_collab_precision_at_k = precision_at_k(bc_collab_model, bc_test, \n",
    "                                          train_interactions=bc_train, k=10, num_threads=cpu_threads).mean()"
   ]
  },
  {
   "cell_type": "code",
   "execution_count": 52,
   "metadata": {
    "collapsed": true
   },
   "outputs": [],
   "source": [
    "# Obtención del AUC score con el modelo colaborativo\n",
    "bc_collab_auc_score = auc_score(bc_collab_model, bc_test, \n",
    "                                train_interactions=bc_train, num_threads=cpu_threads).mean()"
   ]
  },
  {
   "cell_type": "code",
   "execution_count": 53,
   "metadata": {},
   "outputs": [
    {
     "name": "stdout",
     "output_type": "stream",
     "text": [
      "Precisión k: 0.00\n",
      "AUC score: 0.75\n"
     ]
    }
   ],
   "source": [
    "print('Precisión k: %.2f' % bc_collab_precision_at_k)\n",
    "print('AUC score: %.2f' % bc_collab_auc_score)"
   ]
  },
  {
   "cell_type": "markdown",
   "metadata": {},
   "source": [
    "#### Modelo híbrido"
   ]
  },
  {
   "cell_type": "code",
   "execution_count": 54,
   "metadata": {},
   "outputs": [
    {
     "data": {
      "text/plain": [
       "<lightfm.lightfm.LightFM at 0x28c2a581ef0>"
      ]
     },
     "execution_count": 54,
     "metadata": {},
     "output_type": "execute_result"
    }
   ],
   "source": [
    "bc_hybrid_model = LightFM(loss='warp')\n",
    "bc_hybrid_model.fit(bc_train, \n",
    "                    item_features=bc_item_features, \n",
    "                    epochs=30, num_threads=cpu_threads)"
   ]
  },
  {
   "cell_type": "code",
   "execution_count": 41,
   "metadata": {
    "collapsed": true
   },
   "outputs": [],
   "source": [
    "#sample_recommendation(bc_hybrid_model, bc_interactions, [3, 25, 450], bc_items_df)"
   ]
  },
  {
   "cell_type": "code",
   "execution_count": 42,
   "metadata": {
    "collapsed": true
   },
   "outputs": [],
   "source": [
    "bc_hybrid_predictions = bc_hybrid_model.predict_rank(bc_test, \n",
    "                                                     train_interactions=bc_train, \n",
    "                                                     item_features=bc_item_features, \n",
    "                                                     num_threads=cpu_threads)"
   ]
  },
  {
   "cell_type": "code",
   "execution_count": 55,
   "metadata": {
    "collapsed": true
   },
   "outputs": [],
   "source": [
    "# Obtención de la precisión k con el modelo híbrido\n",
    "bc_hybrid_precision_at_k = precision_at_k(bc_hybrid_model, bc_test, train_interactions=bc_train, \n",
    "                                          item_features=bc_item_features, k=10, num_threads=cpu_threads).mean()"
   ]
  },
  {
   "cell_type": "code",
   "execution_count": 56,
   "metadata": {
    "collapsed": true
   },
   "outputs": [],
   "source": [
    "# Obtención del AUC score con el modelo híbrido\n",
    "bc_hybrid_auc_score = auc_score(bc_hybrid_model, bc_test, train_interactions=bc_train, \n",
    "                                item_features=bc_item_features, num_threads=cpu_threads).mean()"
   ]
  },
  {
   "cell_type": "code",
   "execution_count": 57,
   "metadata": {},
   "outputs": [
    {
     "name": "stdout",
     "output_type": "stream",
     "text": [
      "Precisión k: 0.00\n",
      "AUC score: 0.76\n"
     ]
    }
   ],
   "source": [
    "print('Precisión k: %.2f' % bc_hybrid_precision_at_k)\n",
    "print('AUC score: %.2f' % bc_hybrid_auc_score)"
   ]
  },
  {
   "cell_type": "markdown",
   "metadata": {},
   "source": [
    "#### Modelo por contenido"
   ]
  },
  {
   "cell_type": "code",
   "execution_count": 58,
   "metadata": {},
   "outputs": [
    {
     "data": {
      "text/plain": [
       "<lightfm.lightfm.LightFM at 0x28c2a581748>"
      ]
     },
     "execution_count": 58,
     "metadata": {},
     "output_type": "execute_result"
    }
   ],
   "source": [
    "bc_content_model = LightFM(loss='warp')\n",
    "bc_content_model.fit(bc_train, \n",
    "                     user_features=bc_user_features, \n",
    "                     item_features=bc_item_features, \n",
    "                     epochs=30, num_threads=cpu_threads)"
   ]
  },
  {
   "cell_type": "code",
   "execution_count": 44,
   "metadata": {
    "collapsed": true
   },
   "outputs": [],
   "source": [
    "#sample_recommendation(bc_content_model, bc_interactions, [3, 25, 450], bc_items_df)"
   ]
  },
  {
   "cell_type": "code",
   "execution_count": 45,
   "metadata": {
    "collapsed": true
   },
   "outputs": [],
   "source": [
    "bc_content_predictions = bc_content_model.predict_rank(bc_test, train_interactions=bc_train, \n",
    "                                                       item_features=bc_item_features, \n",
    "                                                       user_features=bc_user_features, \n",
    "                                                       num_threads=cpu_threads)"
   ]
  },
  {
   "cell_type": "code",
   "execution_count": 59,
   "metadata": {
    "collapsed": true
   },
   "outputs": [],
   "source": [
    "# Obtención de la precisión k con el modelo por contenido\n",
    "bc_content_precision_at_k = precision_at_k(bc_content_model, bc_test, train_interactions=bc_train, \n",
    "                                           user_features=bc_user_features,\n",
    "                                           item_features=bc_item_features, k=10, num_threads=cpu_threads).mean()"
   ]
  },
  {
   "cell_type": "code",
   "execution_count": 60,
   "metadata": {
    "collapsed": true
   },
   "outputs": [],
   "source": [
    "# Obtención del AUC score con el modelo por contenido\n",
    "bc_content_auc_score = auc_score(bc_content_model, bc_test, train_interactions=bc_train, \n",
    "                                 user_features=bc_user_features,\n",
    "                                 item_features=bc_item_features, num_threads=cpu_threads).mean()"
   ]
  },
  {
   "cell_type": "code",
   "execution_count": 61,
   "metadata": {},
   "outputs": [
    {
     "name": "stdout",
     "output_type": "stream",
     "text": [
      "Precisión k: 0.00\n",
      "AUC score: 0.72\n"
     ]
    }
   ],
   "source": [
    "print('Precisión k: %.2f' % bc_content_precision_at_k)\n",
    "print('AUC score: %.2f' % bc_content_auc_score)"
   ]
  },
  {
   "cell_type": "markdown",
   "metadata": {},
   "source": [
    "## LastFM"
   ]
  },
  {
   "cell_type": "markdown",
   "metadata": {},
   "source": [
    "### Obtención de los dataframes"
   ]
  },
  {
   "cell_type": "code",
   "execution_count": 62,
   "metadata": {
    "collapsed": true
   },
   "outputs": [],
   "source": [
    "# Obtención del dataframe de datos\n",
    "lf_data_df = pd.read_csv('data/lastfm/user_artists.csv', sep='\\t', names=['Id Usuario','Id Artista','Veces escuchado'])\n",
    "\n",
    "# Descomentar para comprobar que el dataframe se ha obtenido correctamente\n",
    "#lf_data_df\n",
    "\n",
    "# Obtención del dataframe de usuarios\n",
    "lf_users_df = pd.read_csv('data/lastfm/user_friends.csv', sep='\\t', names=['Id Usuario', 'Id Amigo'])\n",
    "\n",
    "# Descomentar para comprobar que el dataframe se ha obtenido correctamente\n",
    "#lf_users_df\n",
    "\n",
    "# Obtención del dataframe de items\n",
    "lf_artists_df = pd.read_csv('data/lastfm/artists.csv', sep='\\t', names=['Id Artista','Nombre','URL','URL Foto'])\n",
    "lf_artists_df = lf_artists_df.drop(['URL', 'URL Foto'], axis=1)\n",
    "lf_generos_df = pd.read_csv('data/lastfm/user_taggedartists-timestamps.csv', sep='\\t', names=['Id Usuario','Id Artista','Id Genero','Timestamp'])\n",
    "lf_generos_df = lf_generos_df.drop(['Id Usuario', 'Timestamp'], axis=1)\n",
    "lf_items_df = lf_artists_df.merge(lf_generos_df, left_on='Id Artista', right_on='Id Artista') \n",
    "\n",
    "# Descomentar para comprobar que el dataframe se ha obtenido correctamente\n",
    "#lf_items_df"
   ]
  },
  {
   "cell_type": "markdown",
   "metadata": {},
   "source": [
    "### Obtención del dataset y de las matrices"
   ]
  },
  {
   "cell_type": "code",
   "execution_count": 63,
   "metadata": {
    "collapsed": true
   },
   "outputs": [],
   "source": [
    "# Obtención de los dataset\n",
    "lf_dataset = Dataset()\n",
    "lf_dataset.fit(lf_data_df['Id Usuario'], lf_data_df['Id Artista'])\n",
    "lf_dataset.fit_partial(users=lf_users_df['Id Usuario'], items=lf_items_df['Id Artista'],\n",
    "                    user_features=lf_users_df['Id Amigo'], item_features=lf_items_df['Nombre'])\n",
    "\n",
    "# Obtención de las matrices\n",
    "(lf_interactions, lf_weights) = lf_dataset.build_interactions((row['Id Usuario'], row['Id Artista'], row['Veces escuchado']) for index, row in lf_data_df.iterrows())\n",
    "lf_item_features = lf_dataset.build_item_features((row['Id Artista'], [row['Nombre']]) for index, row in lf_items_df.iterrows())\n",
    "lf_user_features = lf_dataset.build_user_features((row['Id Usuario'], [row['Id Amigo']]) for index, row in lf_users_df.iterrows())"
   ]
  },
  {
   "cell_type": "markdown",
   "metadata": {},
   "source": [
    "### División de los datos"
   ]
  },
  {
   "cell_type": "code",
   "execution_count": 64,
   "metadata": {
    "collapsed": true
   },
   "outputs": [],
   "source": [
    "lf_train, lf_test = random_train_test_split(lf_interactions, test_percentage=0.2)"
   ]
  },
  {
   "cell_type": "markdown",
   "metadata": {},
   "source": [
    "### Obtención de los modelos"
   ]
  },
  {
   "cell_type": "markdown",
   "metadata": {},
   "source": [
    "#### Modelo colaborativo"
   ]
  },
  {
   "cell_type": "code",
   "execution_count": 65,
   "metadata": {},
   "outputs": [
    {
     "data": {
      "text/plain": [
       "<lightfm.lightfm.LightFM at 0x28c2a581828>"
      ]
     },
     "execution_count": 65,
     "metadata": {},
     "output_type": "execute_result"
    }
   ],
   "source": [
    "lf_collab_model = LightFM(loss='warp')\n",
    "lf_collab_model.fit(lf_train, epochs=30, num_threads=cpu_threads)"
   ]
  },
  {
   "cell_type": "code",
   "execution_count": 50,
   "metadata": {
    "collapsed": true
   },
   "outputs": [],
   "source": [
    "#sample_recommendation_lastfm(lf_collab_model, lf_interactions, [3, 25, 450], lf_items_df)"
   ]
  },
  {
   "cell_type": "code",
   "execution_count": 51,
   "metadata": {
    "collapsed": true
   },
   "outputs": [],
   "source": [
    "lf_collab_predictions = lf_collab_model.predict_rank(lf_test, \n",
    "                                                     train_interactions=lf_train, \n",
    "                                                     num_threads=cpu_threads)"
   ]
  },
  {
   "cell_type": "code",
   "execution_count": 66,
   "metadata": {
    "collapsed": true
   },
   "outputs": [],
   "source": [
    "# Obtención de la precisión k con el modelo colaborativo\n",
    "lf_collab_precision_at_k = precision_at_k(lf_collab_model, lf_test, \n",
    "                                          train_interactions=lf_train, k=10, num_threads=cpu_threads).mean()"
   ]
  },
  {
   "cell_type": "code",
   "execution_count": 67,
   "metadata": {
    "collapsed": true
   },
   "outputs": [],
   "source": [
    "# Obtención del AUC score con el modelo colaborativo\n",
    "lf_collab_auc_score = auc_score(lf_collab_model, lf_test, \n",
    "                                train_interactions=lf_train, num_threads=cpu_threads).mean()"
   ]
  },
  {
   "cell_type": "code",
   "execution_count": 68,
   "metadata": {},
   "outputs": [
    {
     "name": "stdout",
     "output_type": "stream",
     "text": [
      "Precisión k: 0.14\n",
      "AUC score: 0.87\n"
     ]
    }
   ],
   "source": [
    "print('Precisión k: %.2f' % lf_collab_precision_at_k)\n",
    "print('AUC score: %.2f' % lf_collab_auc_score)"
   ]
  },
  {
   "cell_type": "markdown",
   "metadata": {},
   "source": [
    "#### Modelo híbrido"
   ]
  },
  {
   "cell_type": "code",
   "execution_count": 69,
   "metadata": {},
   "outputs": [
    {
     "data": {
      "text/plain": [
       "<lightfm.lightfm.LightFM at 0x28c1b4977f0>"
      ]
     },
     "execution_count": 69,
     "metadata": {},
     "output_type": "execute_result"
    }
   ],
   "source": [
    "lf_hybrid_model = LightFM(loss='warp')\n",
    "lf_hybrid_model.fit(lf_train, item_features=lf_item_features, epochs=30, num_threads=cpu_threads)"
   ]
  },
  {
   "cell_type": "code",
   "execution_count": 53,
   "metadata": {
    "collapsed": true
   },
   "outputs": [],
   "source": [
    "#sample_recommendation_lastfm(lf_hybrid_model, lf_interactions, [3, 25, 450], lf_items_df)"
   ]
  },
  {
   "cell_type": "code",
   "execution_count": 55,
   "metadata": {
    "collapsed": true
   },
   "outputs": [],
   "source": [
    "lf_hybrid_predictions = lf_hybrid_model.predict_rank(lf_test,\n",
    "                                                    train_interactions=lf_train,\n",
    "                                                    item_features=lf_item_features,\n",
    "                                                    num_threads=multiprocessing.cpu_count())"
   ]
  },
  {
   "cell_type": "code",
   "execution_count": 70,
   "metadata": {
    "collapsed": true
   },
   "outputs": [],
   "source": [
    "# Obtención de la precisión k con el modelo híbrido\n",
    "lf_hybrid_precision_at_k = precision_at_k(lf_hybrid_model, lf_test, train_interactions=lf_train, \n",
    "                                          item_features=lf_item_features, k=10, num_threads=cpu_threads).mean()"
   ]
  },
  {
   "cell_type": "code",
   "execution_count": 71,
   "metadata": {
    "collapsed": true
   },
   "outputs": [],
   "source": [
    "# Obtención del AUC score con el modelo híbrido\n",
    "lf_hybrid_auc_score = auc_score(lf_hybrid_model, lf_test, train_interactions=lf_train, \n",
    "                                item_features=lf_item_features, num_threads=cpu_threads).mean()"
   ]
  },
  {
   "cell_type": "code",
   "execution_count": 72,
   "metadata": {},
   "outputs": [
    {
     "name": "stdout",
     "output_type": "stream",
     "text": [
      "Precisión k: 0.14\n",
      "AUC score: 0.87\n"
     ]
    }
   ],
   "source": [
    "print('Precisión k: %.2f' % lf_hybrid_precision_at_k)\n",
    "print('AUC score: %.2f' % lf_hybrid_auc_score)"
   ]
  },
  {
   "cell_type": "markdown",
   "metadata": {},
   "source": [
    "#### Modelo por contenido"
   ]
  },
  {
   "cell_type": "code",
   "execution_count": 73,
   "metadata": {},
   "outputs": [
    {
     "data": {
      "text/plain": [
       "<lightfm.lightfm.LightFM at 0x28c1b497828>"
      ]
     },
     "execution_count": 73,
     "metadata": {},
     "output_type": "execute_result"
    }
   ],
   "source": [
    "lf_content_model = LightFM(loss='warp')\n",
    "lf_content_model.fit(lf_train, \n",
    "                     user_features=lf_user_features, \n",
    "                     item_features=lf_item_features, \n",
    "                     epochs=30, num_threads=cpu_threads)"
   ]
  },
  {
   "cell_type": "code",
   "execution_count": 57,
   "metadata": {
    "collapsed": true
   },
   "outputs": [],
   "source": [
    "#sample_recommendation_lastfm(lf_content_model, lf_interactions, [3, 25, 450], lf_items_df)"
   ]
  },
  {
   "cell_type": "code",
   "execution_count": 58,
   "metadata": {
    "collapsed": true
   },
   "outputs": [],
   "source": [
    "lf_content_predictions = lf_content_model.predict_rank(lf_test, train_interactions=lf_train, \n",
    "                                                       item_features=lf_item_features, \n",
    "                                                       user_features=lf_user_features, \n",
    "                                                       num_threads=cpu_threads)"
   ]
  },
  {
   "cell_type": "code",
   "execution_count": 74,
   "metadata": {
    "collapsed": true
   },
   "outputs": [],
   "source": [
    "# Obtención de la precisión k con el modelo por contenido\n",
    "lf_content_precision_at_k = precision_at_k(lf_content_model, lf_test, train_interactions=lf_train, \n",
    "                                           user_features=lf_user_features,\n",
    "                                           item_features=lf_item_features, k=10, num_threads=cpu_threads).mean()"
   ]
  },
  {
   "cell_type": "code",
   "execution_count": 75,
   "metadata": {
    "collapsed": true
   },
   "outputs": [],
   "source": [
    "# Obtención del AUC score con el modelo por contenido\n",
    "lf_content_auc_score = auc_score(lf_content_model, lf_test, train_interactions=lf_train, \n",
    "                                 user_features=lf_user_features,\n",
    "                                 item_features=lf_item_features, num_threads=cpu_threads).mean()"
   ]
  },
  {
   "cell_type": "code",
   "execution_count": 76,
   "metadata": {},
   "outputs": [
    {
     "name": "stdout",
     "output_type": "stream",
     "text": [
      "Precisión k: 0.13\n",
      "AUC score: 0.86\n"
     ]
    }
   ],
   "source": [
    "print('Precisión k: %.2f' % lf_content_precision_at_k)\n",
    "print('AUC score: %.2f' % lf_content_auc_score)"
   ]
  },
  {
   "cell_type": "markdown",
   "metadata": {},
   "source": [
    "## Dating Agency"
   ]
  },
  {
   "cell_type": "markdown",
   "metadata": {},
   "source": [
    "### Obtención de los dataframes"
   ]
  },
  {
   "cell_type": "code",
   "execution_count": 77,
   "metadata": {
    "collapsed": true
   },
   "outputs": [],
   "source": [
    "# Obtención del dataframe de datos\n",
    "dating_data_df = pd.read_csv(r'C:\\Users\\Raúl\\Downloads\\Datasets TFG\\Dating Agency\\ratings.csv', sep=',', \n",
    "                             names=['Id Usuario', 'Id Match', 'Valoración'], engine='python')\n",
    "# Descomentar para comprobar que el dataframe se ha obtenido correctamente\n",
    "#dating_data_df\n",
    "\n",
    "# Obtención del dataframe de usuarios/items\n",
    "dating_users_df = pd.read_csv(r'C:\\Users\\Raúl\\Downloads\\Datasets TFG\\Dating Agency\\gender.csv', sep=',', \n",
    "                              names=['Id Usuario', 'Género'], engine='python')\n",
    "# Descomentar para comprobar que el dataframe se ha obtenido correctamente\n",
    "#dating_users_df"
   ]
  },
  {
   "cell_type": "markdown",
   "metadata": {},
   "source": [
    "### Obtención del dataset y de las matrices"
   ]
  },
  {
   "cell_type": "code",
   "execution_count": 78,
   "metadata": {
    "collapsed": true
   },
   "outputs": [],
   "source": [
    "# Obtención de los dataset\n",
    "dating_dataset = Dataset()\n",
    "dating_dataset.fit(dating_data_df['Id Usuario'], dating_data_df['Id Match'])\n",
    "dating_dataset.fit_partial(users=dating_users_df['Id Usuario'], items=dating_users_df['Id Usuario'],\n",
    "                    user_features=dating_users_df['Género'], item_features=dating_users_df['Género'])\n",
    "\n",
    "# Obtención de las matrices\n",
    "(dating_interactions, dating_weights) = dating_dataset.build_interactions((row['Id Usuario'], row['Id Match'], row['Valoración']) for index, row in dating_data_df.iterrows())\n",
    "dating_item_features = dating_dataset.build_item_features((row['Id Usuario'], [row['Género']]) for index, row in dating_users_df.iterrows())\n",
    "dating_user_features = dating_dataset.build_user_features((row['Id Usuario'], [row['Género']]) for index, row in dating_users_df.iterrows())"
   ]
  },
  {
   "cell_type": "markdown",
   "metadata": {},
   "source": [
    "### División de los datos"
   ]
  },
  {
   "cell_type": "code",
   "execution_count": 80,
   "metadata": {},
   "outputs": [],
   "source": [
    "dating_train, dating_test = random_train_test_split(dating_interactions, test_percentage=0.2)"
   ]
  },
  {
   "cell_type": "markdown",
   "metadata": {},
   "source": [
    "### Obtención de los modelos"
   ]
  },
  {
   "cell_type": "markdown",
   "metadata": {},
   "source": [
    "#### Modelo colaborativo"
   ]
  },
  {
   "cell_type": "code",
   "execution_count": null,
   "metadata": {},
   "outputs": [],
   "source": [
    "dating_collab_model = LightFM(loss='warp')\n",
    "dating_collab_model.fit(dating_train, epochs=30, num_threads=cpu_threads)"
   ]
  },
  {
   "cell_type": "code",
   "execution_count": 63,
   "metadata": {
    "collapsed": true
   },
   "outputs": [],
   "source": [
    "#sample_recommendation_dating(dating_collab_model, dating_interactions, [3, 25, 450], dating_data_df)"
   ]
  },
  {
   "cell_type": "code",
   "execution_count": 64,
   "metadata": {
    "collapsed": true
   },
   "outputs": [],
   "source": [
    "dating_collab_predictions = dating_collab_model.predict_rank(dating_test, \n",
    "                                                             train_interactions=dating_train, \n",
    "                                                             num_threads=cpu_threads)"
   ]
  },
  {
   "cell_type": "code",
   "execution_count": null,
   "metadata": {
    "collapsed": true
   },
   "outputs": [],
   "source": [
    "# Obtención de la precisión k con el modelo colaborativo\n",
    "dating_collab_precision_at_k = precision_at_k(dating_collab_model, dating_test, \n",
    "                                              train_interactions=dating_train, k=10, num_threads=cpu_threads).mean()"
   ]
  },
  {
   "cell_type": "code",
   "execution_count": null,
   "metadata": {
    "collapsed": true
   },
   "outputs": [],
   "source": [
    "# Obtención del AUC score con el modelo colaborativo\n",
    "dating_collab_auc_score = auc_score(dating_collab_model, dating_test, \n",
    "                                    train_interactions=dating_train, num_threads=cpu_threads).mean()"
   ]
  },
  {
   "cell_type": "code",
   "execution_count": null,
   "metadata": {
    "collapsed": true
   },
   "outputs": [],
   "source": [
    "print('Precisión k: %.2f' % dating_collab_precision_at_k)\n",
    "print('AUC score: %.2f' % dating_collab_auc_score)"
   ]
  },
  {
   "cell_type": "markdown",
   "metadata": {},
   "source": [
    "#### Modelo híbrido"
   ]
  },
  {
   "cell_type": "code",
   "execution_count": null,
   "metadata": {},
   "outputs": [],
   "source": [
    "dating_hybrid_model = LightFM(loss='warp')\n",
    "dating_hybrid_model.fit(dating_train, item_features=dating_item_features, epochs=30, num_threads=cpu_threads)"
   ]
  },
  {
   "cell_type": "code",
   "execution_count": null,
   "metadata": {
    "collapsed": true
   },
   "outputs": [],
   "source": [
    "#sample_recommendation_dating(dating_hybrid_model, dating_interactions, [3, 25, 450], dating_data_df)"
   ]
  },
  {
   "cell_type": "code",
   "execution_count": null,
   "metadata": {
    "collapsed": true
   },
   "outputs": [],
   "source": [
    "dating_hybrid_predictions = dating_hybrid_model.predict_rank(dating_test, \n",
    "                                                             train_interactions=dating_train, \n",
    "                                                             item_features=dating_item_features, \n",
    "                                                             num_threads=cpu_threads)"
   ]
  },
  {
   "cell_type": "code",
   "execution_count": null,
   "metadata": {
    "collapsed": true
   },
   "outputs": [],
   "source": [
    "# Obtención de la precisión k con el modelo híbrido\n",
    "dating_hybrid_precision_at_k = precision_at_k(dating_hybrid_model, dating_test, train_interactions=dating_train, \n",
    "                                              item_features=dating_item_features, k=10, num_threads=cpu_threads).mean()"
   ]
  },
  {
   "cell_type": "code",
   "execution_count": null,
   "metadata": {
    "collapsed": true
   },
   "outputs": [],
   "source": [
    "# Obtención del AUC score con el modelo híbrido\n",
    "dating_hybrid_auc_score = auc_score(dating_hybrid_model, dating_test, train_interactions=dating_train, \n",
    "                                    item_features=dating_item_features, num_threads=cpu_threads).mean()"
   ]
  },
  {
   "cell_type": "code",
   "execution_count": null,
   "metadata": {
    "collapsed": true
   },
   "outputs": [],
   "source": [
    "print('Precisión k: %.2f' % dating_hybrid_precision_at_k)\n",
    "print('AUC score: %.2f' % dating_hybrid_auc_score)"
   ]
  },
  {
   "cell_type": "markdown",
   "metadata": {},
   "source": [
    "#### Modelo por contenido"
   ]
  },
  {
   "cell_type": "code",
   "execution_count": null,
   "metadata": {
    "collapsed": true
   },
   "outputs": [],
   "source": [
    "dating_content_model = LightFM(loss='warp')\n",
    "dating_content_model.fit(dating_train, \n",
    "                         user_features=dating_user_features, \n",
    "                         item_features=dating_item_features, \n",
    "                         epochs=30, num_threads=cpu_threads)"
   ]
  },
  {
   "cell_type": "code",
   "execution_count": null,
   "metadata": {
    "collapsed": true
   },
   "outputs": [],
   "source": [
    "#sample_recommendation_dating(dating_content_model, dating_interactions, [3, 25, 450], dating_data_df)"
   ]
  },
  {
   "cell_type": "code",
   "execution_count": null,
   "metadata": {
    "collapsed": true
   },
   "outputs": [],
   "source": [
    "dating_content_predictions = dating_content_model.predict_rank(dating_test, \n",
    "                                                               train_interactions=dating_train, \n",
    "                                                               item_features=dating_item_features, \n",
    "                                                               user_features=dating_user_features, \n",
    "                                                               num_threads=cpu_threads)"
   ]
  },
  {
   "cell_type": "code",
   "execution_count": null,
   "metadata": {
    "collapsed": true
   },
   "outputs": [],
   "source": [
    "# Obtención de la precisión k con el modelo por contenido\n",
    "dating_content_precision_at_k = precision_at_k(dating_content_model, dating_test, train_interactions=dating_train, \n",
    "                                               user_features=dating_user_features, \n",
    "                                               item_features=dating_item_features, k=10, num_threads=cpu_threads).mean()"
   ]
  },
  {
   "cell_type": "code",
   "execution_count": null,
   "metadata": {
    "collapsed": true
   },
   "outputs": [],
   "source": [
    "# Obtención del AUC score con el modelo por contenido\n",
    "dating_content_auc_score = auc_score(dating_content_model, dating_test, train_interactions=dating_train, \n",
    "                                     user_features=dating_user_features, \n",
    "                                     item_features=dating_item_features, num_threads=cpu_threads).mean()"
   ]
  },
  {
   "cell_type": "code",
   "execution_count": null,
   "metadata": {
    "collapsed": true
   },
   "outputs": [],
   "source": [
    "print('Precisión k: %.2f' % dating_content_precision_at_k)\n",
    "print('AUC score: %.2f' % dating_content_auc_score)"
   ]
  },
  {
   "cell_type": "markdown",
   "metadata": {},
   "source": [
    "## Visualización de los conjuntos de datos"
   ]
  },
  {
   "cell_type": "markdown",
   "metadata": {},
   "source": [
    "### Obtención de los tados"
   ]
  },
  {
   "cell_type": "code",
   "execution_count": 18,
   "metadata": {
    "collapsed": true
   },
   "outputs": [],
   "source": [
    "n_users_ml = len(ml_data_df['Id Usuario'].unique())\n",
    "n_items_ml = len(ml_data_df['Id Película'].unique())\n",
    "n_ratings_ml = ml_data_df['Valoración'].count()\n",
    "ratings_per_user_ml = round(n_ratings_ml / n_users_ml)\n",
    "\n",
    "n_users_anime = len(anime_data_df['Id Usuario'].unique())\n",
    "n_items_anime = len(anime_data_df['Id Anime'].unique())\n",
    "n_ratings_anime = anime_data_df['Valoración'].count()\n",
    "ratings_per_user_anime = round(n_ratings_anime / n_users_anime)\n",
    "\n",
    "n_users_bc = len(bc_data_df['Id Usuario'].unique())\n",
    "n_items_bc = len(bc_data_df['ISBN'].unique())\n",
    "n_ratings_bc = bc_data_df['Valoración'].count()\n",
    "ratings_per_user_bc = round(n_ratings_bc / n_users_bc)\n",
    "\n",
    "n_users_lf = len(lf_data_df['Id Usuario'].unique())\n",
    "n_items_lf = len(lf_data_df['Id Artista'].unique())\n",
    "n_ratings_lf = lf_data_df['Veces escuchado'].count()\n",
    "ratings_per_user_lf = round(n_ratings_lf / n_users_lf)\n",
    "\n",
    "n_users_dating = len(dating_data_df['Id Usuario'].unique())\n",
    "n_items_dating = len(dating_data_df['Id Match'].unique())\n",
    "n_ratings_dating = dating_data_df['Valoración'].count()\n",
    "ratings_per_user_dating = round(n_ratings_dating / n_users_dating)\n",
    "\n",
    "users = [n_users_ml, n_users_anime, n_users_bc, n_users_lf, n_users_dating]\n",
    "items = [n_items_ml, n_items_anime, n_items_bc, n_items_lf, n_items_dating]\n",
    "ratings = [ratings_per_user_ml, ratings_per_user_anime, ratings_per_user_bc, ratings_per_user_lf, ratings_per_user_dating]"
   ]
  },
  {
   "cell_type": "markdown",
   "metadata": {},
   "source": [
    "### Obtención de los gráficos"
   ]
  },
  {
   "cell_type": "code",
   "execution_count": 19,
   "metadata": {},
   "outputs": [
    {
     "data": {
      "image/png": "[encoded data removed]",
      "text/plain": [
       "<Figure size 432x288 with 1 Axes>"
      ]
     },
     "metadata": {},
     "output_type": "display_data"
    }
   ],
   "source": [
    "X = np.arange(5)\n",
    "plt.bar(X, users, color=\"b\", width=0.50)\n",
    "plt.xticks(X, [\"MovieLens\", \"Anime\", \"Book-Crossing\", \"LastFM\", \"Dating Agency\"])\n",
    "plt.xlabel(\"Conjuntos de datos\")\n",
    "plt.ylabel(\"Número de usuarios\")\n",
    "plt.show()"
   ]
  },
  {
   "cell_type": "code",
   "execution_count": 20,
   "metadata": {},
   "outputs": [
    {
     "data": {
      "image/png": "[encoded data removed]",
      "text/plain": [
       "<Figure size 432x288 with 1 Axes>"
      ]
     },
     "metadata": {},
     "output_type": "display_data"
    }
   ],
   "source": [
    "plt.bar(X, items, color=\"b\", width=0.50)\n",
    "plt.xticks(X, [\"MovieLens\", \"Anime\", \"Book-Crossing\", \"LastFM\", \"Dating Agency\"])\n",
    "plt.xlabel(\"Conjuntos de datos\")\n",
    "plt.ylabel(\"Número de items\")\n",
    "plt.show()"
   ]
  },
  {
   "cell_type": "code",
   "execution_count": 21,
   "metadata": {},
   "outputs": [
    {
     "data": {
      "image/png": "[encoded data removed]",
      "text/plain": [
       "<Figure size 432x288 with 1 Axes>"
      ]
     },
     "metadata": {},
     "output_type": "display_data"
    }
   ],
   "source": [
    "plt.bar(X, ratings, color=\"b\", width=0.50)\n",
    "plt.xticks(X, [\"MovieLens\", \"Anime\", \"Book-Crossing\", \"LastFM\", \"Dating Agency\"])\n",
    "plt.xlabel(\"Conjuntos de datos\")\n",
    "plt.ylabel(\"Valoraciones por usuario\")\n",
    "plt.show()"
   ]
  },
  {
   "cell_type": "code",
   "execution_count": 29,
   "metadata": {},
   "outputs": [
    {
     "data": {
      "text/plain": [
       "array([<matplotlib.axes._subplots.AxesSubplot object at 0x000002D00324C4A8>,\n",
       "       <matplotlib.axes._subplots.AxesSubplot object at 0x000002D00322C630>,\n",
       "       <matplotlib.axes._subplots.AxesSubplot object at 0x000002D00329C780>], dtype=object)"
      ]
     },
     "execution_count": 29,
     "metadata": {},
     "output_type": "execute_result"
    }
   ],
   "source": [
    "graficos_df = pd.DataFrame({'Número de usuarios':users, 'Número de items':items, 'Valoraciones por usuario':ratings},\n",
    "                          index=['MovieLens', 'Anime', 'Book-Crossing', 'LastFM', 'Dating Agency'])\n",
    "\n",
    "grafica = graficos_df.plot.bar(rot=0, subplots=True)\n",
    "grafica"
   ]
  }
 ],
 "metadata": {
  "kernelspec": {
   "display_name": "Python 3",
   "language": "python",
   "name": "python3"
  },
  "language_info": {
   "codemirror_mode": {
    "name": "ipython",
    "version": 3
   },
   "file_extension": ".py",
   "mimetype": "text/x-python",
   "name": "python",
   "nbconvert_exporter": "python",
   "pygments_lexer": "ipython3",
   "version": "3.6.8"
  }
 },
 "nbformat": 4,
 "nbformat_minor": 2
}
