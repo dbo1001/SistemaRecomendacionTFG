{
 "cells": [
  {
   "cell_type": "markdown",
   "metadata": {},
   "source": [
    "# Sistemas de recomendación con LightFM\n",
    "En este notebook se obtienen los distintos tipos de modelos (colaborativo, basado en contenido e híbrido) con el conjunto de datos de MovieLens y la librería LightFM."
   ]
  },
  {
   "cell_type": "code",
   "execution_count": 38,
   "metadata": {},
   "outputs": [],
   "source": [
    "# Importar todo lo necesario\n",
    "import numpy as np\n",
    "import pandas as pd\n",
    "import scipy as sp\n",
    "import matplotlib.pyplot as plt\n",
    "from lightfm import LightFM\n",
    "from lightfm.evaluation import precision_at_k\n",
    "from lightfm.data import Dataset\n",
    "\n",
    "import multiprocessing"
   ]
  },
  {
   "cell_type": "markdown",
   "metadata": {},
   "source": [
    "## Recomendaciones"
   ]
  },
  {
   "cell_type": "code",
   "execution_count": 2,
   "metadata": {},
   "outputs": [],
   "source": [
    "# Pequeña función para ver las recomendaciones\n",
    "def sample_recommendation(model, data, user_ids, items_df):\n",
    "    n_users, n_items = data.shape\n",
    "\n",
    "    for user_id in user_ids:\n",
    "        known_positives = items_df['Título'][data.tocsr()[user_id].indices]\n",
    "        scores = model.predict(user_id, np.arange(n_items))\n",
    "        top_items = items_df['Título'][np.argsort(-scores)]\n",
    "        \n",
    "        print(\"User %s\" % user_id)\n",
    "        print(\"    Known positives:\")\n",
    "        \n",
    "        for x in known_positives[:3]:\n",
    "            print(\"        %s\" % x)\n",
    "            \n",
    "        print(\"    Recommended:\")\n",
    "        \n",
    "        for x in top_items[:3]:\n",
    "            print(\"         %s\" % x)"
   ]
  },
  {
   "cell_type": "code",
   "execution_count": 3,
   "metadata": {},
   "outputs": [],
   "source": [
    "# Pequeña función para ver las recomendaciones\n",
    "def sample_recommendation_lastfm(model, data, user_ids, items_df):\n",
    "    n_users, n_items = data.shape\n",
    "\n",
    "    for user_id in user_ids:\n",
    "        known_positives = items_df['Nombre'][data.tocsr()[user_id].indices]\n",
    "        scores = model.predict(user_id, np.arange(n_items))\n",
    "        top_items = items_df['Nombre'][np.argsort(-scores)]\n",
    "        \n",
    "        print(\"User %s\" % user_id)\n",
    "        print(\"    Known positives:\")\n",
    "        \n",
    "        for x in known_positives[:3]:\n",
    "            print(\"        %s\" % x)\n",
    "            \n",
    "        print(\"    Recommended:\")\n",
    "        \n",
    "        for x in top_items[:3]:\n",
    "            print(\"         %s\" % x)"
   ]
  },
  {
   "cell_type": "markdown",
   "metadata": {},
   "source": [
    "## MovieLens"
   ]
  },
  {
   "cell_type": "markdown",
   "metadata": {},
   "source": [
    "### Obtención de los dataframes"
   ]
  },
  {
   "cell_type": "code",
   "execution_count": 4,
   "metadata": {},
   "outputs": [],
   "source": [
    "# Obtención del dataframe de datos\n",
    "ml_data_df = pd.read_csv('data/movielens/ml_data.csv', delim_whitespace=True, names=['Id Usuario','Id Película','Valoración','Fecha'])\n",
    "\n",
    "# Descomentar para comprobar que el dataframe se ha obtenido correctamente\n",
    "#ml_data_df\n",
    "\n",
    "# Obtención del dataframe de usuarios\n",
    "ml_users_df = pd.read_csv('data/movielens/user.csv', sep='|', names=['Id Usuario', 'Edad', 'Género', 'Ocupación', 'Código Postal'])\n",
    "\n",
    "# Descomentar para comprobar que el dataframe se ha obtenido correctamente\n",
    "#ml_users_df\n",
    "\n",
    "# Obtención del dataframe de items\n",
    "ml_items_df = pd.read_csv('data/movielens/ml_items.csv', sep='|',\n",
    "    names=['Id Película','Título','Fecha de estreno','Fecha DVD','iMDB','Género desconocido','Acción','Aventura','Animación','Infantil','Comedia', 'Crimen','Docuemntal','Drama','Fantasía','Cine negro','Horror','Musical','Misterio','Romance','Ciencia ficción','Thriller','Bélico','Western'],\n",
    "    encoding='latin-1')\n",
    "\n",
    "# Descomentar para comprobar que el dataframe se ha obtenido correctamente\n",
    "#ml_items_df"
   ]
  },
  {
   "cell_type": "markdown",
   "metadata": {},
   "source": [
    "### Obtención del dataset y de las matrices   \n",
    "Convierto los dataframes en las estructuras de datos que necesita LightFM para poder sacar las matrices y poder hacer uso de su sistema de recomendación"
   ]
  },
  {
   "cell_type": "code",
   "execution_count": 5,
   "metadata": {
    "collapsed": true
   },
   "outputs": [],
   "source": [
    "# Obtención de los dataset\n",
    "ml_dataset = Dataset()\n",
    "ml_dataset.fit(ml_data_df['Id Usuario'], ml_data_df['Id Película'])\n",
    "ml_dataset.fit_partial(users=ml_users_df['Id Usuario'], items=ml_items_df['Id Película'],\n",
    "                    user_features=ml_users_df['Género'], item_features=ml_items_df['Título'])\n",
    "\n",
    "#num_users, num_items = ml_dataset.interactions_shape()\n",
    "#print('Num users: {}, num_items {}.'.format(num_users, num_items))\n",
    "\n",
    "# Obtención de las matrices\n",
    "(ml_interactions, ml_weights) = ml_dataset.build_interactions((row['Id Usuario'], row['Id Película'], row['Valoración']) for index, row in ml_data_df.iterrows())\n",
    "ml_item_features = ml_dataset.build_item_features((row['Id Película'], [row['Título']]) for index, row in ml_items_df.iterrows())\n",
    "ml_user_features = ml_dataset.build_user_features((row['Id Usuario'], [row['Género']]) for index, row in ml_users_df.iterrows())"
   ]
  },
  {
   "cell_type": "markdown",
   "metadata": {},
   "source": [
    "### Obtención de los modelos"
   ]
  },
  {
   "cell_type": "markdown",
   "metadata": {},
   "source": [
    "#### Modelo colaborativo"
   ]
  },
  {
   "cell_type": "code",
   "execution_count": 6,
   "metadata": {},
   "outputs": [
    {
     "data": {
      "text/plain": [
       "<lightfm.lightfm.LightFM at 0x17b1f007908>"
      ]
     },
     "execution_count": 6,
     "metadata": {},
     "output_type": "execute_result"
    }
   ],
   "source": [
    "ml_collab_model = LightFM(loss='warp')\n",
    "ml_collab_model.fit(ml_interactions, sample_weight=ml_weights, epochs=30, num_threads=multiprocessing.cpu_count())"
   ]
  },
  {
   "cell_type": "code",
   "execution_count": 7,
   "metadata": {},
   "outputs": [
    {
     "name": "stdout",
     "output_type": "stream",
     "text": [
      "User 3\n",
      "    Known positives:\n",
      "        Get Shorty (1995)\n",
      "        Twelve Monkeys (1995)\n",
      "        Dead Man Walking (1995)\n",
      "    Recommended:\n",
      "         Pinocchio (1940)\n",
      "         Birdcage, The (1996)\n",
      "         Searching for Bobby Fischer (1993)\n",
      "User 25\n",
      "    Known positives:\n",
      "        Babe (1995)\n",
      "        Dead Man Walking (1995)\n",
      "        Seven (Se7en) (1995)\n",
      "    Recommended:\n",
      "         My Life as a Dog (Mitt liv som hund) (1985)\n",
      "         Natural Born Killers (1994)\n",
      "         Ace Ventura: When Nature Calls (1995)\n",
      "User 450\n",
      "    Known positives:\n",
      "        Twelve Monkeys (1995)\n",
      "        Babe (1995)\n",
      "        Seven (Se7en) (1995)\n",
      "    Recommended:\n",
      "         Free Willy (1993)\n",
      "         Spawn (1997)\n",
      "         Star Wars (1977)\n"
     ]
    }
   ],
   "source": [
    "sample_recommendation(ml_collab_model, ml_interactions, [3, 25, 450], ml_items_df)"
   ]
  },
  {
   "cell_type": "markdown",
   "metadata": {},
   "source": [
    "#### Modelo híbrido"
   ]
  },
  {
   "cell_type": "code",
   "execution_count": 8,
   "metadata": {},
   "outputs": [
    {
     "data": {
      "text/plain": [
       "<lightfm.lightfm.LightFM at 0x17b1f007668>"
      ]
     },
     "execution_count": 8,
     "metadata": {},
     "output_type": "execute_result"
    }
   ],
   "source": [
    "ml_hybrid_model = LightFM(loss='warp')\n",
    "ml_hybrid_model.fit(ml_interactions, item_features=ml_item_features, sample_weight=ml_weights, epochs=30, num_threads=multiprocessing.cpu_count())"
   ]
  },
  {
   "cell_type": "code",
   "execution_count": 9,
   "metadata": {},
   "outputs": [
    {
     "name": "stdout",
     "output_type": "stream",
     "text": [
      "User 3\n",
      "    Known positives:\n",
      "        Get Shorty (1995)\n",
      "        Twelve Monkeys (1995)\n",
      "        Dead Man Walking (1995)\n",
      "    Recommended:\n",
      "         Birdcage, The (1996)\n",
      "         Grosse Pointe Blank (1997)\n",
      "         Pinocchio (1940)\n",
      "User 25\n",
      "    Known positives:\n",
      "        Babe (1995)\n",
      "        Dead Man Walking (1995)\n",
      "        Seven (Se7en) (1995)\n",
      "    Recommended:\n",
      "         Young Guns (1988)\n",
      "         My Life as a Dog (Mitt liv som hund) (1985)\n",
      "         On Golden Pond (1981)\n",
      "User 450\n",
      "    Known positives:\n",
      "        Twelve Monkeys (1995)\n",
      "        Babe (1995)\n",
      "        Seven (Se7en) (1995)\n",
      "    Recommended:\n",
      "         Spawn (1997)\n",
      "         Free Willy (1993)\n",
      "         Raging Bull (1980)\n"
     ]
    }
   ],
   "source": [
    "sample_recommendation(ml_hybrid_model, ml_interactions, [3, 25, 450], ml_items_df)"
   ]
  },
  {
   "cell_type": "markdown",
   "metadata": {},
   "source": [
    "#### Modelo por contenido"
   ]
  },
  {
   "cell_type": "code",
   "execution_count": 10,
   "metadata": {},
   "outputs": [
    {
     "data": {
      "text/plain": [
       "<lightfm.lightfm.LightFM at 0x17b1f007630>"
      ]
     },
     "execution_count": 10,
     "metadata": {},
     "output_type": "execute_result"
    }
   ],
   "source": [
    "ml_content_model = LightFM(loss='warp')\n",
    "ml_content_model.fit(ml_interactions, user_features=ml_user_features, item_features=ml_item_features, sample_weight=ml_weights, epochs=30, num_threads=multiprocessing.cpu_count())"
   ]
  },
  {
   "cell_type": "code",
   "execution_count": 11,
   "metadata": {},
   "outputs": [
    {
     "name": "stdout",
     "output_type": "stream",
     "text": [
      "User 3\n",
      "    Known positives:\n",
      "        Get Shorty (1995)\n",
      "        Twelve Monkeys (1995)\n",
      "        Dead Man Walking (1995)\n",
      "    Recommended:\n",
      "         My Life as a Dog (Mitt liv som hund) (1985)\n",
      "         Liar Liar (1997)\n",
      "         Rainmaker, The (1997)\n",
      "User 25\n",
      "    Known positives:\n",
      "        Babe (1995)\n",
      "        Dead Man Walking (1995)\n",
      "        Seven (Se7en) (1995)\n",
      "    Recommended:\n",
      "         Ulee's Gold (1997)\n",
      "         Little Women (1994)\n",
      "         Gay Divorcee, The (1934)\n",
      "User 450\n",
      "    Known positives:\n",
      "        Twelve Monkeys (1995)\n",
      "        Babe (1995)\n",
      "        Seven (Se7en) (1995)\n",
      "    Recommended:\n",
      "         Free Willy (1993)\n",
      "         Spawn (1997)\n",
      "         Robert A. Heinlein's The Puppet Masters (1994)\n"
     ]
    }
   ],
   "source": [
    "sample_recommendation(ml_content_model, ml_interactions, [3, 25, 450], ml_items_df)"
   ]
  },
  {
   "cell_type": "markdown",
   "metadata": {},
   "source": [
    "## Anime"
   ]
  },
  {
   "cell_type": "markdown",
   "metadata": {},
   "source": [
    "### Obtención de los dataframes"
   ]
  },
  {
   "cell_type": "code",
   "execution_count": 5,
   "metadata": {},
   "outputs": [],
   "source": [
    "# Obtención del dataframe de items\n",
    "anime_items_df = pd.read_csv('data/anime/anime.csv', sep=',', \n",
    "    names=['Id Anime', 'Título', 'Género', 'Tipo', 'Episodios', 'Valoración Media', 'Miembros'])\n",
    "\n",
    "# Descomentar para comprobar que el dataframe se ha obtenido correctamente\n",
    "#anime_items_df\n",
    "\n",
    "# Obtención del dataframe de datos\n",
    "anime_data1_df = pd.read_csv('data/anime/ratings1.csv', sep=',', names=['Id Usuario', 'Id Anime', 'Valoración'], low_memory=False)\n",
    "anime_data2_df = pd.read_csv('data/anime/ratings2.csv', sep=',', names=['Id Usuario', 'Id Anime', 'Valoración'], low_memory=False)\n",
    "anime_data3_df = pd.read_csv('data/anime/ratings3.csv', sep=',', names=['Id Usuario', 'Id Anime', 'Valoración'], low_memory=False)\n",
    "anime_data4_df = pd.read_csv('data/anime/ratings4.csv', sep=',', names=['Id Usuario', 'Id Anime', 'Valoración'], low_memory=False)\n",
    "anime_data_df = pd.concat([anime_data1_df, anime_data2_df, anime_data3_df, anime_data4_df])\n",
    "\n",
    "# Descomentar para comprobar que el dataframe se ha obtenido correctamente\n",
    "#anime_data_df"
   ]
  },
  {
   "cell_type": "markdown",
   "metadata": {},
   "source": [
    "### Obtención del dataset y de las matrices  \n",
    "Convierto los dataframes en las estructuras de datos que necesita LightFM para poder sacar las matrices y poder hacer uso de su sistema de recomendación"
   ]
  },
  {
   "cell_type": "code",
   "execution_count": 41,
   "metadata": {
    "collapsed": true
   },
   "outputs": [],
   "source": [
    "# Obtención de los dataset\n",
    "anime_dataset = Dataset()\n",
    "anime_dataset.fit(anime_data_df['Id Usuario'], anime_data_df['Id Anime'])\n",
    "anime_dataset.fit_partial(items=anime_items_df['Id Anime'], item_features=anime_items_df['Título'])\n",
    "\n",
    "#num_users, num_items = anime_dataset.interactions_shape()\n",
    "#print('Num users: {}, num_items {}.'.format(num_users, num_items))\n",
    "\n",
    "# Obtención de las matrices\n",
    "(anime_interactions, anime_weights) = anime_dataset.build_interactions((row['Id Usuario'], row['Id Anime'], row['Valoración']) for index, row in anime_data_df.iterrows())\n",
    "anime_item_features = anime_dataset.build_item_features((row['Id Anime'], [row['Título']]) for index, row in anime_items_df.iterrows())"
   ]
  },
  {
   "cell_type": "markdown",
   "metadata": {},
   "source": [
    "### Obtención de los modelos"
   ]
  },
  {
   "cell_type": "markdown",
   "metadata": {},
   "source": [
    "#### Modelo colaborativo"
   ]
  },
  {
   "cell_type": "code",
   "execution_count": 42,
   "metadata": {},
   "outputs": [
    {
     "data": {
      "text/plain": [
       "<lightfm.lightfm.LightFM at 0x17b2370dbe0>"
      ]
     },
     "execution_count": 42,
     "metadata": {},
     "output_type": "execute_result"
    }
   ],
   "source": [
    "anime_collab_model = LightFM(loss='warp')\n",
    "anime_collab_model.fit(anime_interactions, sample_weight=anime_weights, epochs=30, num_threads=multiprocessing.cpu_count())"
   ]
  },
  {
   "cell_type": "code",
   "execution_count": 43,
   "metadata": {},
   "outputs": [
    {
     "name": "stdout",
     "output_type": "stream",
     "text": [
      "User 3\n",
      "    Known positives:\n",
      "        Steins;Gate\n",
      "        Sen to Chihiro no Kamikakushi\n",
      "        Ookami Kodomo no Ame to Yuki\n",
      "    Recommended:\n",
      "         Lina Poe Poe\n",
      "         Katta-kun Monogatari\n",
      "         Master of Torque 3\n",
      "User 25\n",
      "    Known positives:\n",
      "        Ookami Kodomo no Ame to Yuki\n",
      "        Monogatari Series: Second Season\n",
      "        Fate/Zero 2nd Season\n",
      "    Recommended:\n",
      "         Lina Poe Poe\n",
      "         Katta-kun Monogatari\n",
      "         Master of Torque 3\n",
      "User 450\n",
      "    Known positives:\n",
      "        Kimi no Na wa.\n",
      "        Fullmetal Alchemist: Brotherhood\n",
      "        Ginga Eiyuu Densetsu\n",
      "    Recommended:\n",
      "         Gintama: Shiroyasha Koutan\n",
      "         Rose of Versailles\n",
      "         Mitsudomoe Zouryouchuu!\n"
     ]
    }
   ],
   "source": [
    "sample_recommendation(anime_collab_model, anime_interactions, [3, 25, 450], anime_items_df)"
   ]
  },
  {
   "cell_type": "markdown",
   "metadata": {},
   "source": [
    "#### Modelo híbrido"
   ]
  },
  {
   "cell_type": "code",
   "execution_count": 44,
   "metadata": {},
   "outputs": [
    {
     "data": {
      "text/plain": [
       "<lightfm.lightfm.LightFM at 0x17b2370d048>"
      ]
     },
     "execution_count": 44,
     "metadata": {},
     "output_type": "execute_result"
    }
   ],
   "source": [
    "anime_hybrid_model = LightFM(loss='warp')\n",
    "# Comentar la línea que no proceda\n",
    "anime_hybrid_model.fit(anime_interactions, item_features=anime_item_features, sample_weight=anime_weights, epochs=30, num_threads=multiprocessing.cpu_count())"
   ]
  },
  {
   "cell_type": "code",
   "execution_count": 45,
   "metadata": {},
   "outputs": [
    {
     "name": "stdout",
     "output_type": "stream",
     "text": [
      "User 3\n",
      "    Known positives:\n",
      "        Steins;Gate\n",
      "        Sen to Chihiro no Kamikakushi\n",
      "        Ookami Kodomo no Ame to Yuki\n",
      "    Recommended:\n",
      "         Mirai Kara no Message\n",
      "         Geunyeoneun Yeppeotda\n",
      "         Xi You Ji\n",
      "User 25\n",
      "    Known positives:\n",
      "        Ookami Kodomo no Ame to Yuki\n",
      "        Monogatari Series: Second Season\n",
      "        Fate/Zero 2nd Season\n",
      "    Recommended:\n",
      "         Mirai Kara no Message\n",
      "         Geunyeoneun Yeppeotda\n",
      "         Xi You Ji\n",
      "User 450\n",
      "    Known positives:\n",
      "        Kimi no Na wa.\n",
      "        Fullmetal Alchemist: Brotherhood\n",
      "        Ginga Eiyuu Densetsu\n",
      "    Recommended:\n",
      "         Gintama: Shiroyasha Koutan\n",
      "         Cardcaptor Sakura Movie 2: Fuuin Sareta Card\n",
      "         Rose of Versailles\n"
     ]
    }
   ],
   "source": [
    "sample_recommendation(anime_hybrid_model, anime_interactions, [3, 25, 450], anime_items_df)"
   ]
  },
  {
   "cell_type": "markdown",
   "metadata": {},
   "source": [
    "## Book-Crossing"
   ]
  },
  {
   "cell_type": "markdown",
   "metadata": {},
   "source": [
    "### Obtención de los dataframes"
   ]
  },
  {
   "cell_type": "code",
   "execution_count": 6,
   "metadata": {},
   "outputs": [],
   "source": [
    "# Obtención del dataframe de datos\n",
    "bc_data_df = pd.read_csv('data/book-crossing/BX-Book-Ratings.csv', sep=';', names=['Id Usuario','ISBN','Valoración'], encoding='cp1252', low_memory=False)\n",
    "\n",
    "# Descomentar para comprobar que el dataframe se ha obtenido correctamente\n",
    "#bc_data_df\n",
    "\n",
    "# Obtención del dataframe de usuarios\n",
    "bc_users_df = pd.read_csv('data/book-crossing/BX-Users.csv', sep=';', names=['Id Usuario', 'Residencia', 'Edad'], encoding='cp1252')\n",
    "bc_users_df = bc_users_df.fillna(0)\n",
    "\n",
    "# Descomentar para comprobar que el dataframe se ha obtenido correctamente\n",
    "#bc_users_df\n",
    "\n",
    "# Obtención del dataframe de items\n",
    "bc_items_df = pd.read_csv('data/book-crossing/BX-Books.csv', sep=';', names=['ISBN','Título','Autor','Fecha de publicación','Editorial','URL S','URL M','URL L'], encoding='cp1252', low_memory=False)\n",
    "\n",
    "# Descomentar para comprobar que el dataframe se ha obtenido correctamente\n",
    "#bc_items_df"
   ]
  },
  {
   "cell_type": "markdown",
   "metadata": {},
   "source": [
    "### Obtención del dataset y de las matrices  \n",
    "Convierto los dataframes en las estructuras de datos que necesita LightFM para poder sacar las matrices y poder hacer uso de su sistema de recomendación"
   ]
  },
  {
   "cell_type": "code",
   "execution_count": 30,
   "metadata": {
    "collapsed": true
   },
   "outputs": [],
   "source": [
    "# Obtención de los dataset\n",
    "bc_dataset = Dataset()\n",
    "bc_dataset.fit(bc_data_df['Id Usuario'], bc_data_df['ISBN'])\n",
    "bc_dataset.fit_partial(users=bc_users_df['Id Usuario'], items=bc_items_df['ISBN'],\n",
    "                    user_features=bc_users_df['Edad'], item_features=bc_items_df['Título'])\n",
    "\n",
    "#num_users, num_items = bc_dataset.interactions_shape()\n",
    "#print('Num users: {}, num_items {}.'.format(num_users, num_items))\n",
    "\n",
    "# Obtención de las matrices\n",
    "(bc_interactions, bc_weights) = bc_dataset.build_interactions((row['Id Usuario'], row['ISBN'], row['Valoración']) for index, row in bc_data_df.iterrows())\n",
    "bc_item_features = bc_dataset.build_item_features((row['ISBN'], [row['Título']]) for index, row in bc_items_df.iterrows())\n",
    "bc_user_features = bc_dataset.build_user_features((row['Id Usuario'], [row['Edad']]) for index, row in bc_users_df.iterrows())"
   ]
  },
  {
   "cell_type": "markdown",
   "metadata": {},
   "source": [
    "### Obtención de los modelos"
   ]
  },
  {
   "cell_type": "markdown",
   "metadata": {},
   "source": [
    "#### Modelo colaborativo"
   ]
  },
  {
   "cell_type": "code",
   "execution_count": 31,
   "metadata": {},
   "outputs": [
    {
     "data": {
      "text/plain": [
       "<lightfm.lightfm.LightFM at 0x17b41ff1940>"
      ]
     },
     "execution_count": 31,
     "metadata": {},
     "output_type": "execute_result"
    }
   ],
   "source": [
    "bc_collab_model = LightFM(loss='warp')\n",
    "bc_collab_model.fit(bc_interactions, sample_weight=bc_weights, epochs=30, num_threads=multiprocessing.cpu_count())"
   ]
  },
  {
   "cell_type": "code",
   "execution_count": 32,
   "metadata": {},
   "outputs": [
    {
     "name": "stdout",
     "output_type": "stream",
     "text": [
      "User 3\n",
      "    Known positives:\n",
      "        Flu: The Story of the Great Influenza Pandemic of 1918 and the Search for the Virus That Caused It\n",
      "        The Mummies of Urumchi\n",
      "    Recommended:\n",
      "         Way Beyond Therapy (Peanuts at Work and Play)\n",
      "         Murder in the Cathedral (A Harvest/Hbj Book)\n",
      "         Portrait Du Joueur\n",
      "User 25\n",
      "    Known positives:\n",
      "        Flood : Mississippi 1927\n",
      "        The Right Man : The Surprise Presidency of George W. Bush\n",
      "        Daybreakers Louis Lamour Collection\n",
      "    Recommended:\n",
      "         Bridget Jones : The Edge of Reason\n",
      "         Crewel Lye\n",
      "         Fast Women\n",
      "User 450\n",
      "    Known positives:\n",
      "        The Deed of Paksenarrion\n",
      "    Recommended:\n",
      "         Crewel Lye\n",
      "         Mawrdew Czgowchwz (New York Review Books Classics)\n",
      "         The Four Agreements: A Practical Guide to Personal Freedom\n"
     ]
    }
   ],
   "source": [
    "sample_recommendation(bc_collab_model, bc_interactions, [3, 25, 450], bc_items_df)"
   ]
  },
  {
   "cell_type": "markdown",
   "metadata": {},
   "source": [
    "#### Modelo híbrido"
   ]
  },
  {
   "cell_type": "code",
   "execution_count": 33,
   "metadata": {},
   "outputs": [
    {
     "data": {
      "text/plain": [
       "<lightfm.lightfm.LightFM at 0x17b2370d4a8>"
      ]
     },
     "execution_count": 33,
     "metadata": {},
     "output_type": "execute_result"
    }
   ],
   "source": [
    "bc_hybrid_model = LightFM(loss='warp')\n",
    "bc_hybrid_model.fit(bc_interactions, item_features=bc_item_features, sample_weight=bc_weights, epochs=30, num_threads=multiprocessing.cpu_count())"
   ]
  },
  {
   "cell_type": "code",
   "execution_count": 34,
   "metadata": {},
   "outputs": [
    {
     "name": "stdout",
     "output_type": "stream",
     "text": [
      "User 3\n",
      "    Known positives:\n",
      "        Flu: The Story of the Great Influenza Pandemic of 1918 and the Search for the Virus That Caused It\n",
      "        The Mummies of Urumchi\n",
      "    Recommended:\n",
      "         Secret Door to Success\n",
      "         No Place Like Home\n",
      "         Five Have a Mystery to Solve\n",
      "User 25\n",
      "    Known positives:\n",
      "        Flood : Mississippi 1927\n",
      "        The Right Man : The Surprise Presidency of George W. Bush\n",
      "        Daybreakers Louis Lamour Collection\n",
      "    Recommended:\n",
      "         Crewel Lye\n",
      "         I Rant Therefore I Am\n",
      "         Decipher\n",
      "User 450\n",
      "    Known positives:\n",
      "        The Deed of Paksenarrion\n",
      "    Recommended:\n",
      "         Crewel Lye\n",
      "         Mawrdew Czgowchwz (New York Review Books Classics)\n",
      "         The Four Agreements: A Practical Guide to Personal Freedom\n"
     ]
    }
   ],
   "source": [
    "sample_recommendation(bc_hybrid_model, bc_interactions, [3, 25, 450], bc_items_df)"
   ]
  },
  {
   "cell_type": "markdown",
   "metadata": {},
   "source": [
    "#### Modelo por contenido"
   ]
  },
  {
   "cell_type": "code",
   "execution_count": 35,
   "metadata": {},
   "outputs": [
    {
     "data": {
      "text/plain": [
       "<lightfm.lightfm.LightFM at 0x17b2370d1d0>"
      ]
     },
     "execution_count": 35,
     "metadata": {},
     "output_type": "execute_result"
    }
   ],
   "source": [
    "bc_content_model = LightFM(loss='warp')\n",
    "bc_content_model.fit(bc_interactions, user_features=bc_user_features, item_features=bc_item_features, sample_weight=bc_weights, epochs=30, num_threads=multiprocessing.cpu_count())"
   ]
  },
  {
   "cell_type": "code",
   "execution_count": 36,
   "metadata": {},
   "outputs": [
    {
     "name": "stdout",
     "output_type": "stream",
     "text": [
      "User 3\n",
      "    Known positives:\n",
      "        Flu: The Story of the Great Influenza Pandemic of 1918 and the Search for the Virus That Caused It\n",
      "        The Mummies of Urumchi\n",
      "    Recommended:\n",
      "         MCSE : Networking Essentials Study Guide\n",
      "         Scooby-Doo and the Phantom Cowboy (Scooby-Doo, 3)\n",
      "         The Singing Tree (Puffin Newbery Library)\n",
      "User 25\n",
      "    Known positives:\n",
      "        Flood : Mississippi 1927\n",
      "        The Right Man : The Surprise Presidency of George W. Bush\n",
      "        Daybreakers Louis Lamour Collection\n",
      "    Recommended:\n",
      "         The Four Agreements: A Practical Guide to Personal Freedom\n",
      "         Crewel Lye\n",
      "         Angels and Bolters: Women's Cancer Scripts\n",
      "User 450\n",
      "    Known positives:\n",
      "        The Deed of Paksenarrion\n",
      "    Recommended:\n",
      "         Crewel Lye\n",
      "         The Four Agreements: A Practical Guide to Personal Freedom\n",
      "         Rainbow the Stormy Life of Judy Garland\n"
     ]
    }
   ],
   "source": [
    "sample_recommendation(bc_content_model, bc_interactions, [3, 25, 450], bc_items_df)"
   ]
  },
  {
   "cell_type": "markdown",
   "metadata": {},
   "source": [
    "## LastFM"
   ]
  },
  {
   "cell_type": "markdown",
   "metadata": {},
   "source": [
    "### Obtención de los dataframes"
   ]
  },
  {
   "cell_type": "code",
   "execution_count": 7,
   "metadata": {},
   "outputs": [],
   "source": [
    "# Obtención del dataframe de datos\n",
    "lf_data_df = pd.read_csv('data/lastfm/user_artists.csv', sep='\\t', names=['Id Usuario','Id Artista','Veces escuchado'])\n",
    "\n",
    "# Descomentar para comprobar que el dataframe se ha obtenido correctamente\n",
    "#lf_data_df\n",
    "\n",
    "# Obtención del dataframe de usuarios\n",
    "lf_users_df = pd.read_csv('data/lastfm/user_friends.csv', sep='\\t', names=['Id Usuario', 'Id Amigo'])\n",
    "\n",
    "# Descomentar para comprobar que el dataframe se ha obtenido correctamente\n",
    "#lf_users_df\n",
    "\n",
    "# Obtención del dataframe de items\n",
    "lf_artists_df = pd.read_csv('data/lastfm/artists.csv', sep='\\t', names=['Id Artista','Nombre','URL','URL Foto'])\n",
    "lf_artists_df = lf_artists_df.drop(['URL', 'URL Foto'], axis=1)\n",
    "lf_generos_df = pd.read_csv('data/lastfm/user_taggedartists-timestamps.csv', sep='\\t', names=['Id Usuario','Id Artista','Id Genero','Timestamp'])\n",
    "lf_generos_df = lf_generos_df.drop(['Id Usuario', 'Timestamp'], axis=1)\n",
    "lf_items_df = lf_artists_df.merge(lf_generos_df, left_on='Id Artista', right_on='Id Artista') \n",
    "\n",
    "# Descomentar para comprobar que el dataframe se ha obtenido correctamente\n",
    "#lf_items_df"
   ]
  },
  {
   "cell_type": "markdown",
   "metadata": {},
   "source": [
    "### Obtención del dataset y de las matrices"
   ]
  },
  {
   "cell_type": "code",
   "execution_count": 38,
   "metadata": {
    "collapsed": true
   },
   "outputs": [],
   "source": [
    "# Obtención de los dataset\n",
    "lf_dataset = Dataset()\n",
    "lf_dataset.fit(lf_data_df['Id Usuario'], lf_data_df['Id Artista'])\n",
    "lf_dataset.fit_partial(users=lf_users_df['Id Usuario'], items=lf_items_df['Id Artista'],\n",
    "                    user_features=lf_users_df['Id Amigo'], item_features=lf_items_df['Nombre'])\n",
    "\n",
    "#num_users, num_items = lf_dataset.interactions_shape()\n",
    "#print('Num users: {}, num_items {}.'.format(num_users, num_items))\n",
    "\n",
    "# Obtención de las matrices\n",
    "(lf_interactions, lf_weights) = lf_dataset.build_interactions((row['Id Usuario'], row['Id Artista'], row['Veces escuchado']) for index, row in lf_data_df.iterrows())\n",
    "lf_item_features = lf_dataset.build_item_features((row['Id Artista'], [row['Nombre']]) for index, row in lf_items_df.iterrows())\n",
    "lf_user_features = lf_dataset.build_user_features((row['Id Usuario'], [row['Id Amigo']]) for index, row in lf_users_df.iterrows())"
   ]
  },
  {
   "cell_type": "markdown",
   "metadata": {},
   "source": [
    "### Obtención de los modelos"
   ]
  },
  {
   "cell_type": "markdown",
   "metadata": {},
   "source": [
    "#### Modelo colaborativo"
   ]
  },
  {
   "cell_type": "code",
   "execution_count": 39,
   "metadata": {},
   "outputs": [
    {
     "data": {
      "text/plain": [
       "<lightfm.lightfm.LightFM at 0x17b2370d5f8>"
      ]
     },
     "execution_count": 39,
     "metadata": {},
     "output_type": "execute_result"
    }
   ],
   "source": [
    "lf_collab_model = LightFM(loss='warp')\n",
    "lf_collab_model.fit(lf_interactions, sample_weight=lf_weights, epochs=30, num_threads=multiprocessing.cpu_count())"
   ]
  },
  {
   "cell_type": "code",
   "execution_count": 15,
   "metadata": {},
   "outputs": [
    {
     "name": "stdout",
     "output_type": "stream",
     "text": [
      "User 3\n",
      "    Known positives:\n",
      "        MALICE MIZER\n",
      "        Moonspell\n",
      "        Marilyn Manson\n",
      "    Recommended:\n",
      "         Moonspell\n",
      "         Marilyn Manson\n",
      "         Grendel\n",
      "User 25\n",
      "    Known positives:\n",
      "        MALICE MIZER\n",
      "        MALICE MIZER\n",
      "        MALICE MIZER\n",
      "    Recommended:\n",
      "         MALICE MIZER\n",
      "         Sopor Aeternus & The Ensemble of Shadows\n",
      "         Sopor Aeternus & The Ensemble of Shadows\n",
      "User 450\n",
      "    Known positives:\n",
      "        MALICE MIZER\n",
      "        MALICE MIZER\n",
      "        Diary of Dreams\n",
      "    Recommended:\n",
      "         Diary of Dreams\n",
      "         Diary of Dreams\n",
      "         MALICE MIZER\n"
     ]
    }
   ],
   "source": [
    "sample_recommendation_lastfm(lf_collab_model, lf_interactions, [3, 25, 450], lf_items_df)"
   ]
  },
  {
   "cell_type": "markdown",
   "metadata": {},
   "source": [
    "#### Modelo híbrido"
   ]
  },
  {
   "cell_type": "code",
   "execution_count": 16,
   "metadata": {},
   "outputs": [
    {
     "data": {
      "text/plain": [
       "<lightfm.lightfm.LightFM at 0x17b1eff2518>"
      ]
     },
     "execution_count": 16,
     "metadata": {},
     "output_type": "execute_result"
    }
   ],
   "source": [
    "lf_hybrid_model = LightFM(loss='warp')\n",
    "lf_hybrid_model.fit(lf_interactions, item_features=lf_item_features, sample_weight=lf_weights, epochs=30, num_threads=multiprocessing.cpu_count())"
   ]
  },
  {
   "cell_type": "code",
   "execution_count": 17,
   "metadata": {},
   "outputs": [
    {
     "name": "stdout",
     "output_type": "stream",
     "text": [
      "User 3\n",
      "    Known positives:\n",
      "        MALICE MIZER\n",
      "        Moonspell\n",
      "        Marilyn Manson\n",
      "    Recommended:\n",
      "         Goldfrapp\n",
      "         Coldplay\n",
      "         Goldfrapp\n",
      "User 25\n",
      "    Known positives:\n",
      "        MALICE MIZER\n",
      "        MALICE MIZER\n",
      "        MALICE MIZER\n",
      "    Recommended:\n",
      "         Gorillaz\n",
      "         New Order\n",
      "         Gorillaz\n",
      "User 450\n",
      "    Known positives:\n",
      "        MALICE MIZER\n",
      "        MALICE MIZER\n",
      "        Diary of Dreams\n",
      "    Recommended:\n",
      "         Depeche Mode\n",
      "         Air\n",
      "         Duran Duran\n"
     ]
    }
   ],
   "source": [
    "sample_recommendation_lastfm(lf_hybrid_model, lf_interactions, [3, 25, 450], lf_items_df)"
   ]
  },
  {
   "cell_type": "markdown",
   "metadata": {},
   "source": [
    "#### Modelo por contenido"
   ]
  },
  {
   "cell_type": "code",
   "execution_count": 18,
   "metadata": {},
   "outputs": [
    {
     "data": {
      "text/plain": [
       "<lightfm.lightfm.LightFM at 0x17b1bc95be0>"
      ]
     },
     "execution_count": 18,
     "metadata": {},
     "output_type": "execute_result"
    }
   ],
   "source": [
    "lf_content_model = LightFM(loss='warp')\n",
    "lf_content_model.fit(lf_interactions, user_features=lf_user_features, item_features=lf_item_features, sample_weight=lf_weights, epochs=30, num_threads=multiprocessing.cpu_count())"
   ]
  },
  {
   "cell_type": "code",
   "execution_count": 19,
   "metadata": {},
   "outputs": [
    {
     "name": "stdout",
     "output_type": "stream",
     "text": [
      "User 3\n",
      "    Known positives:\n",
      "        MALICE MIZER\n",
      "        Moonspell\n",
      "        Marilyn Manson\n",
      "    Recommended:\n",
      "         Marilyn Manson\n",
      "         Kylie Minogue\n",
      "         Kylie Minogue\n",
      "User 25\n",
      "    Known positives:\n",
      "        MALICE MIZER\n",
      "        MALICE MIZER\n",
      "        MALICE MIZER\n",
      "    Recommended:\n",
      "         Hooverphonic\n",
      "         Faithless\n",
      "         Kylie Minogue\n",
      "User 450\n",
      "    Known positives:\n",
      "        MALICE MIZER\n",
      "        MALICE MIZER\n",
      "        Diary of Dreams\n",
      "    Recommended:\n",
      "         Coldplay\n",
      "         Behemoth\n",
      "         Air\n"
     ]
    }
   ],
   "source": [
    "sample_recommendation_lastfm(lf_content_model, lf_interactions, [3, 25, 450], lf_items_df)"
   ]
  },
  {
   "cell_type": "markdown",
   "metadata": {},
   "source": [
    "## Visualización de los conjuntos de datos"
   ]
  },
  {
   "cell_type": "markdown",
   "metadata": {},
   "source": [
    "### Obtención de los tados"
   ]
  },
  {
   "cell_type": "code",
   "execution_count": 42,
   "metadata": {},
   "outputs": [],
   "source": [
    "n_users_ml = len(ml_data_df['Id Usuario'].unique())\n",
    "n_items_ml = len(ml_data_df['Id Película'].unique())\n",
    "n_ratings_ml = ml_data_df['Valoración'].count()\n",
    "ratings_per_user_ml = round(n_ratings_ml / n_users_ml)\n",
    "\n",
    "n_users_anime = len(anime_data_df['Id Usuario'].unique())\n",
    "n_items_anime = len(anime_data_df['Id Anime'].unique())\n",
    "n_ratings_anime = anime_data_df['Valoración'].count()\n",
    "ratings_per_user_anime = round(n_ratings_anime / n_users_anime)\n",
    "\n",
    "n_users_bc = len(bc_data_df['Id Usuario'].unique())\n",
    "n_items_bc = len(bc_data_df['ISBN'].unique())\n",
    "n_ratings_bc = bc_data_df['Valoración'].count()\n",
    "ratings_per_user_bc = round(n_ratings_bc / n_users_bc)\n",
    "\n",
    "n_users_lf = len(lf_data_df['Id Usuario'].unique())\n",
    "n_items_lf = len(lf_data_df['Id Artista'].unique())\n",
    "n_ratings_lf = lf_data_df['Veces escuchado'].count()\n",
    "ratings_per_user_lf = round(n_ratings_lf / n_users_lf)\n",
    "\n",
    "users = [n_users_ml, n_users_anime, n_users_bc, n_users_lf]\n",
    "items = [n_items_ml, n_items_anime, n_items_bc, n_items_lf]\n",
    "ratings = [ratings_per_user_ml, ratings_per_user_anime, ratings_per_user_bc, ratings_per_user_lf]"
   ]
  },
  {
   "cell_type": "markdown",
   "metadata": {},
   "source": [
    "### Obtención de los gráficos"
   ]
  },
  {
   "cell_type": "code",
   "execution_count": 76,
   "metadata": {},
   "outputs": [
    {
     "data": {
      "image/png": "[encoded data removed]",
      "text/plain": [
       "<Figure size 432x288 with 1 Axes>"
      ]
     },
     "metadata": {
      "needs_background": "light"
     },
     "output_type": "display_data"
    }
   ],
   "source": [
    "X = np.arange(4)\n",
    "plt.bar(X, users, color=\"b\", width=0.50)\n",
    "plt.xticks(X, [\"MovieLens\", \"Anime\", \"Book-Crossing\", \"LastFM\"])\n",
    "plt.xlabel(\"Conjuntos de datos\")\n",
    "plt.ylabel(\"Número de usuarios\")\n",
    "plt.show()"
   ]
  },
  {
   "cell_type": "code",
   "execution_count": 77,
   "metadata": {},
   "outputs": [
    {
     "data": {
      "image/png": "[encoded data removed]",
      "text/plain": [
       "<Figure size 432x288 with 1 Axes>"
      ]
     },
     "metadata": {
      "needs_background": "light"
     },
     "output_type": "display_data"
    }
   ],
   "source": [
    "plt.bar(X, items, color=\"b\", width=0.50)\n",
    "plt.xticks(X, [\"MovieLens\", \"Anime\", \"Book-Crossing\", \"LastFM\"])\n",
    "plt.xlabel(\"Conjuntos de datos\")\n",
    "plt.ylabel(\"Número de items\")\n",
    "plt.show()"
   ]
  },
  {
   "cell_type": "code",
   "execution_count": 75,
   "metadata": {},
   "outputs": [
    {
     "data": {
      "image/png": "[encoded data removed]",
      "text/plain": [
       "<Figure size 432x288 with 1 Axes>"
      ]
     },
     "metadata": {
      "needs_background": "light"
     },
     "output_type": "display_data"
    }
   ],
   "source": [
    "plt.bar(X, ratings, color=\"b\", width=0.50)\n",
    "plt.xticks(X, [\"MovieLens\", \"Anime\", \"Book-Crossing\", \"LastFM\"])\n",
    "plt.xlabel(\"Conjuntos de datos\")\n",
    "plt.ylabel(\"Valoraciones por usuario\")\n",
    "plt.show()"
   ]
  },
  {
   "cell_type": "code",
   "execution_count": 74,
   "metadata": {},
   "outputs": [
    {
     "data": {
      "image/png": "[encoded data removed]",
      "text/plain": [
       "<Figure size 432x288 with 3 Axes>"
      ]
     },
     "metadata": {
      "needs_background": "light"
     },
     "output_type": "display_data"
    }
   ],
   "source": [
    "graficos_df = pd.DataFrame({'Número de usuarios':users, 'Número de items':items, 'Valoraciones por usuario':ratings},\n",
    "                          index=['MovieLens', 'Anime', 'Book-Crossing', 'LastFM'])\n",
    "\n",
    "grafica = graficos_df.plot.bar(rot=0, subplots=True)"
   ]
  }
 ],
 "metadata": {
  "kernelspec": {
   "display_name": "Python 3",
   "language": "python",
   "name": "python3"
  },
  "language_info": {
   "codemirror_mode": {
    "name": "ipython",
    "version": 3
   },
   "file_extension": ".py",
   "mimetype": "text/x-python",
   "name": "python",
   "nbconvert_exporter": "python",
   "pygments_lexer": "ipython3",
   "version": "3.7.0"
  }
 },
 "nbformat": 4,
 "nbformat_minor": 2
}
