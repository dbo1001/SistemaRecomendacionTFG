{
 "cells": [
  {
   "cell_type": "markdown",
   "metadata": {},
   "source": [
    "# Sistemas de recomendación con LightFM\n",
    "En este notebook se obtienen los distintos tipos de modelos (colaborativo, basado en contenido e híbrido) con el conjunto de datos de MovieLens y la librería LightFM."
   ]
  },
  {
   "cell_type": "code",
   "execution_count": 32,
   "metadata": {},
   "outputs": [],
   "source": [
    "# Importar todo lo necesario\n",
    "import numpy as np\n",
    "import pandas as pd\n",
    "import scipy as sp\n",
    "from lightfm import LightFM\n",
    "from lightfm.evaluation import precision_at_k\n",
    "from lightfm.data import Dataset"
   ]
  },
  {
   "cell_type": "markdown",
   "metadata": {},
   "source": [
    "## Recomendaciones"
   ]
  },
  {
   "cell_type": "code",
   "execution_count": 33,
   "metadata": {},
   "outputs": [],
   "source": [
    "# Pequeña función para ver las recomendaciones\n",
    "def sample_recommendation(model, data, user_ids, items_df):\n",
    "    n_users, n_items = data.shape\n",
    "\n",
    "    for user_id in user_ids:\n",
    "        known_positives = items_df['Título'][data.tocsr()[user_id].indices]\n",
    "        scores = model.predict(user_id, np.arange(n_items))\n",
    "        top_items = items_df['Título'][np.argsort(-scores)]\n",
    "        \n",
    "        print(\"User %s\" % user_id)\n",
    "        print(\"    Known positives:\")\n",
    "        \n",
    "        for x in known_positives[:3]:\n",
    "            print(\"        %s\" % x)\n",
    "            \n",
    "        print(\"    Recommended:\")\n",
    "        \n",
    "        for x in top_items[:3]:\n",
    "            print(\"         %s\" % x)"
   ]
  },
  {
   "cell_type": "markdown",
   "metadata": {},
   "source": [
    "## MovieLens"
   ]
  },
  {
   "cell_type": "markdown",
   "metadata": {},
   "source": [
    "### Obtención de los dataframes"
   ]
  },
  {
   "cell_type": "code",
   "execution_count": 34,
   "metadata": {},
   "outputs": [],
   "source": [
    "# Obtención del dataframe de ml_data\n",
    "ml_data_df = pd.read_csv('data/movielens/ml_data.csv', delim_whitespace=True, names=['Id Usuario','Id Película','Valoración','Fecha'])\n",
    "\n",
    "# Descomentar para comprobar que el dataframe se ha obtenido correctamente\n",
    "#data_df\n",
    "\n",
    "# Obtención del dataframe de user\n",
    "ml_user_df = pd.read_csv('data/movielens/user.csv', sep='|', names=['Id Usuario', 'Edad', 'Género', 'Ocupación', 'Código Postal'])\n",
    "\n",
    "# Descomentar para comprobar que el dataframe se ha obtenido correctamente\n",
    "#user_df\n",
    "\n",
    "# Obtención del dataframe de ml_items\n",
    "ml_items_df = pd.read_csv('data/movielens/ml_items.csv', sep='|',\n",
    "    names=['Id Película','Título','Fecha de estreno','Fecha DVD','iMDB','Género desconocido','Acción','Aventura','Animación','Infantil','Comedia', 'Crimen','Docuemntal','Drama','Fantasía','Cine negro','Horror','Musical','Misterio','Romance','Ciencia ficción','Thriller','Bélico','Western'],\n",
    "    encoding='latin-1')\n",
    "\n",
    "# Descomentar para comprobar que el dataframe se ha obtenido correctamente\n",
    "#items_df"
   ]
  },
  {
   "cell_type": "markdown",
   "metadata": {},
   "source": [
    "### Obtención del dataset y de las matrices   \n",
    "Convierto los dataframes en las estructuras de datos que necesita LightFM para poder sacar las matrices y poder hacer uso de su sistema de recomendación"
   ]
  },
  {
   "cell_type": "code",
   "execution_count": 35,
   "metadata": {},
   "outputs": [],
   "source": [
    "# Obtención de los dataset\n",
    "ml_dataset = Dataset()\n",
    "ml_dataset.fit(ml_data_df['Id Usuario'], ml_data_df['Id Película'])\n",
    "ml_dataset.fit_partial(users=ml_user_df['Id Usuario'], items=ml_items_df['Id Película'],\n",
    "                    user_features=ml_user_df['Género'], item_features=ml_items_df['Título'])\n",
    "\n",
    "#num_users, num_items = dataset.interactions_shape()\n",
    "#print('Num users: {}, num_items {}.'.format(num_users, num_items))\n",
    "\n",
    "# Obtención de las matrices\n",
    "(ml_interactions, ml_weights) = ml_dataset.build_interactions((row['Id Usuario'], row['Id Película'], row['Valoración']) for index, row in ml_data_df.iterrows())\n",
    "ml_item_features = ml_dataset.build_item_features((row['Id Película'], [row['Título']]) for index, row in ml_items_df.iterrows())\n",
    "ml_user_features = ml_dataset.build_user_features((row['Id Usuario'], [row['Género']]) for index, row in ml_user_df.iterrows())"
   ]
  },
  {
   "cell_type": "markdown",
   "metadata": {},
   "source": [
    "### Obtención de los modelos"
   ]
  },
  {
   "cell_type": "markdown",
   "metadata": {},
   "source": [
    "#### Modelo colaborativo"
   ]
  },
  {
   "cell_type": "code",
   "execution_count": 36,
   "metadata": {},
   "outputs": [
    {
     "data": {
      "text/plain": [
       "<lightfm.lightfm.LightFM at 0x1a1da95f28>"
      ]
     },
     "execution_count": 36,
     "metadata": {},
     "output_type": "execute_result"
    }
   ],
   "source": [
    "ml_collab_model = LightFM(loss='warp')\n",
    "ml_collab_model.fit(ml_interactions, sample_weight=ml_weights, epochs=30, num_threads=2)"
   ]
  },
  {
   "cell_type": "code",
   "execution_count": 37,
   "metadata": {},
   "outputs": [
    {
     "name": "stdout",
     "output_type": "stream",
     "text": [
      "User 3\n",
      "    Known positives:\n",
      "        Get Shorty (1995)\n",
      "        Twelve Monkeys (1995)\n",
      "        Dead Man Walking (1995)\n",
      "    Recommended:\n",
      "         Searching for Bobby Fischer (1993)\n",
      "         Free Willy (1993)\n",
      "         Grosse Pointe Blank (1997)\n",
      "User 25\n",
      "    Known positives:\n",
      "        Babe (1995)\n",
      "        Dead Man Walking (1995)\n",
      "        Seven (Se7en) (1995)\n",
      "    Recommended:\n",
      "         My Life as a Dog (Mitt liv som hund) (1985)\n",
      "         Ace Ventura: When Nature Calls (1995)\n",
      "         Young Guns (1988)\n",
      "User 450\n",
      "    Known positives:\n",
      "        Twelve Monkeys (1995)\n",
      "        Babe (1995)\n",
      "        Seven (Se7en) (1995)\n",
      "    Recommended:\n",
      "         Free Willy (1993)\n",
      "         Spawn (1997)\n",
      "         Star Wars (1977)\n"
     ]
    }
   ],
   "source": [
    "sample_recommendation(ml_collab_model, ml_interactions, [3, 25, 450], ml_items_df)"
   ]
  },
  {
   "cell_type": "markdown",
   "metadata": {},
   "source": [
    "#### Modelo híbrido"
   ]
  },
  {
   "cell_type": "code",
   "execution_count": 38,
   "metadata": {},
   "outputs": [
    {
     "data": {
      "text/plain": [
       "<lightfm.lightfm.LightFM at 0x1a1da95668>"
      ]
     },
     "execution_count": 38,
     "metadata": {},
     "output_type": "execute_result"
    }
   ],
   "source": [
    "ml_hybrid_model = LightFM(loss='warp')\n",
    "ml_hybrid_model.fit(ml_interactions, item_features=ml_item_features, sample_weight=ml_weights, epochs=30, num_threads=2)"
   ]
  },
  {
   "cell_type": "code",
   "execution_count": 39,
   "metadata": {},
   "outputs": [
    {
     "name": "stdout",
     "output_type": "stream",
     "text": [
      "User 3\n",
      "    Known positives:\n",
      "        Get Shorty (1995)\n",
      "        Twelve Monkeys (1995)\n",
      "        Dead Man Walking (1995)\n",
      "    Recommended:\n",
      "         Spawn (1997)\n",
      "         Grosse Pointe Blank (1997)\n",
      "         Star Wars (1977)\n",
      "User 25\n",
      "    Known positives:\n",
      "        Babe (1995)\n",
      "        Dead Man Walking (1995)\n",
      "        Seven (Se7en) (1995)\n",
      "    Recommended:\n",
      "         Young Guns (1988)\n",
      "         Free Willy 3: The Rescue (1997)\n",
      "         Trainspotting (1996)\n",
      "User 450\n",
      "    Known positives:\n",
      "        Twelve Monkeys (1995)\n",
      "        Babe (1995)\n",
      "        Seven (Se7en) (1995)\n",
      "    Recommended:\n",
      "         Spawn (1997)\n",
      "         Free Willy (1993)\n",
      "         Weekend at Bernie's (1989)\n"
     ]
    }
   ],
   "source": [
    "sample_recommendation(ml_hybrid_model, ml_interactions, [3, 25, 450], ml_items_df)"
   ]
  },
  {
   "cell_type": "markdown",
   "metadata": {},
   "source": [
    "#### Modelo por contenido"
   ]
  },
  {
   "cell_type": "code",
   "execution_count": 40,
   "metadata": {},
   "outputs": [
    {
     "data": {
      "text/plain": [
       "<lightfm.lightfm.LightFM at 0x1a31f4a780>"
      ]
     },
     "execution_count": 40,
     "metadata": {},
     "output_type": "execute_result"
    }
   ],
   "source": [
    "ml_content_model = LightFM(loss='warp')\n",
    "ml_content_model.fit(ml_interactions, user_features=ml_user_features, item_features=ml_item_features, sample_weight=ml_weights, epochs=30, num_threads=2)"
   ]
  },
  {
   "cell_type": "code",
   "execution_count": 41,
   "metadata": {},
   "outputs": [
    {
     "name": "stdout",
     "output_type": "stream",
     "text": [
      "User 3\n",
      "    Known positives:\n",
      "        Get Shorty (1995)\n",
      "        Twelve Monkeys (1995)\n",
      "        Dead Man Walking (1995)\n",
      "    Recommended:\n",
      "         My Life as a Dog (Mitt liv som hund) (1985)\n",
      "         Doom Generation, The (1995)\n",
      "         Liar Liar (1997)\n",
      "User 25\n",
      "    Known positives:\n",
      "        Babe (1995)\n",
      "        Dead Man Walking (1995)\n",
      "        Seven (Se7en) (1995)\n",
      "    Recommended:\n",
      "         Gay Divorcee, The (1934)\n",
      "         Black Sheep (1996)\n",
      "         Ace Ventura: When Nature Calls (1995)\n",
      "User 450\n",
      "    Known positives:\n",
      "        Twelve Monkeys (1995)\n",
      "        Babe (1995)\n",
      "        Seven (Se7en) (1995)\n",
      "    Recommended:\n",
      "         Free Willy (1993)\n",
      "         Spawn (1997)\n",
      "         Birdcage, The (1996)\n"
     ]
    }
   ],
   "source": [
    "sample_recommendation(ml_content_model, ml_interactions, [3, 25, 450], ml_items_df)"
   ]
  },
  {
   "cell_type": "markdown",
   "metadata": {},
   "source": [
    "## Anime"
   ]
  },
  {
   "cell_type": "markdown",
   "metadata": {},
   "source": [
    "### Obtención de los dataframes"
   ]
  },
  {
   "cell_type": "code",
   "execution_count": 42,
   "metadata": {},
   "outputs": [],
   "source": [
    "# Obtención del dataframe de anime\n",
    "anime_items_df = pd.read_csv('data/anime/anime.csv', sep=',', \n",
    "    names=['Id Anime', 'Título', 'Género', 'Tipo', 'Episodios', 'Valoración Media', 'Miembros'])\n",
    "\n",
    "# Descomentar para comprobar que el dataframe se ha obtenido correctamente\n",
    "#anime_items_df\n",
    "\n",
    "# Obtención del dataframe con las valoraciones de anime\n",
    "anime_data1_df = pd.read_csv('data/anime/ratings1.csv', sep=',', names=['Id Usuario', 'Id Anime', 'Valoración'], low_memory=False)\n",
    "anime_data2_df = pd.read_csv('data/anime/ratings2.csv', sep=',', names=['Id Usuario', 'Id Anime', 'Valoración'], low_memory=False)\n",
    "anime_data3_df = pd.read_csv('data/anime/ratings3.csv', sep=',', names=['Id Usuario', 'Id Anime', 'Valoración'], low_memory=False)\n",
    "anime_data4_df = pd.read_csv('data/anime/ratings4.csv', sep=',', names=['Id Usuario', 'Id Anime', 'Valoración'], low_memory=False)\n",
    "anime_data_df = pd.concat([anime_data1_df, anime_data2_df, anime_data3_df, anime_data4_df])\n",
    "\n",
    "# Descomentar para comprobar que el dataframe se ha obtenido correctamente\n",
    "#anime_data_df"
   ]
  },
  {
   "cell_type": "markdown",
   "metadata": {},
   "source": [
    "### Obtención del dataset y de las matrices  \n",
    "Convierto los dataframes en las estructuras de datos que necesita LightFM para poder sacar las matrices y poder hacer uso de su sistema de recomendación"
   ]
  },
  {
   "cell_type": "code",
   "execution_count": 43,
   "metadata": {},
   "outputs": [],
   "source": [
    "# Obtención de los dataset\n",
    "anime_dataset = Dataset()\n",
    "anime_dataset.fit(anime_data_df['Id Usuario'], anime_data_df['Id Anime'])\n",
    "anime_dataset.fit_partial(items=anime_items_df['Id Anime'], item_features=anime_items_df['Título'])\n",
    "\n",
    "#num_users, num_items = dataset.interactions_shape()\n",
    "#print('Num users: {}, num_items {}.'.format(num_users, num_items))\n",
    "\n",
    "# Obtención de las matrices\n",
    "(anime_interactions, anime_weights) = anime_dataset.build_interactions((row['Id Usuario'], row['Id Anime'], row['Valoración']) for index, row in anime_data_df.iterrows())\n",
    "anime_item_features = anime_dataset.build_item_features((row['Id Anime'], [row['Título']]) for index, row in anime_items_df.iterrows())"
   ]
  },
  {
   "cell_type": "markdown",
   "metadata": {},
   "source": [
    "### Obtención de los modelos"
   ]
  },
  {
   "cell_type": "markdown",
   "metadata": {},
   "source": [
    "#### Modelo colaborativo"
   ]
  },
  {
   "cell_type": "code",
   "execution_count": 44,
   "metadata": {},
   "outputs": [
    {
     "data": {
      "text/plain": [
       "<lightfm.lightfm.LightFM at 0x1a1f45a550>"
      ]
     },
     "execution_count": 44,
     "metadata": {},
     "output_type": "execute_result"
    }
   ],
   "source": [
    "anime_collab_model = LightFM(loss='warp')\n",
    "anime_collab_model.fit(anime_interactions, sample_weight=anime_weights, epochs=30, num_threads=2)"
   ]
  },
  {
   "cell_type": "code",
   "execution_count": 45,
   "metadata": {},
   "outputs": [
    {
     "name": "stderr",
     "output_type": "stream",
     "text": [
      "/anaconda3/lib/python3.7/site-packages/pandas/core/series.py:842: FutureWarning: \n",
      "Passing list-likes to .loc or [] with any missing label will raise\n",
      "KeyError in the future, you can use .reindex() as an alternative.\n",
      "\n",
      "See the documentation here:\n",
      "https://pandas.pydata.org/pandas-docs/stable/indexing.html#deprecate-loc-reindex-listlike\n",
      "  return self.loc[key]\n"
     ]
    },
    {
     "name": "stdout",
     "output_type": "stream",
     "text": [
      "User 3\n",
      "    Known positives:\n",
      "        Steins;Gate\n",
      "        Sen to Chihiro no Kamikakushi\n",
      "        Ookami Kodomo no Ame to Yuki\n",
      "    Recommended:\n",
      "         Ton-Ton Atta to Niigata no Mukashibanashi\n",
      "         Spoon-hime no Swing Kitchen\n",
      "         Doubutsu Kankyou Kaigi\n",
      "User 25\n",
      "    Known positives:\n",
      "        Ookami Kodomo no Ame to Yuki\n",
      "        Monogatari Series: Second Season\n",
      "        Fate/Zero 2nd Season\n",
      "    Recommended:\n",
      "         Ton-Ton Atta to Niigata no Mukashibanashi\n",
      "         Spoon-hime no Swing Kitchen\n",
      "         Doubutsu Kankyou Kaigi\n",
      "User 450\n",
      "    Known positives:\n",
      "        Kimi no Na wa.\n",
      "        Fullmetal Alchemist: Brotherhood\n",
      "        Ginga Eiyuu Densetsu\n",
      "    Recommended:\n",
      "         Gintama: Shiroyasha Koutan\n",
      "         Rose of Versailles\n",
      "         Steins;Gate\n"
     ]
    }
   ],
   "source": [
    "sample_recommendation(anime_collab_model, anime_interactions, [3, 25, 450], anime_items_df)"
   ]
  },
  {
   "cell_type": "markdown",
   "metadata": {},
   "source": [
    "#### Modelo híbrido"
   ]
  },
  {
   "cell_type": "code",
   "execution_count": null,
   "metadata": {},
   "outputs": [],
   "source": [
    "anime_hybrid_model = LightFM(loss='warp')\n",
    "anime_hybrid_model.fit(anime_interactions, item_features=anime_item_features, sample_weight=anime_weights, epochs=30, num_threads=2)"
   ]
  },
  {
   "cell_type": "code",
   "execution_count": null,
   "metadata": {},
   "outputs": [],
   "source": [
    "sample_recommendation(anime_hybrid_model, anime_interactions, [3, 25, 450], anime_items_df)"
   ]
  }
 ],
 "metadata": {
  "kernelspec": {
   "display_name": "Python 3",
   "language": "python",
   "name": "python3"
  },
  "language_info": {
   "codemirror_mode": {
    "name": "ipython",
    "version": 3
   },
   "file_extension": ".py",
   "mimetype": "text/x-python",
   "name": "python",
   "nbconvert_exporter": "python",
   "pygments_lexer": "ipython3",
   "version": "3.7.0"
  }
 },
 "nbformat": 4,
 "nbformat_minor": 2
}
