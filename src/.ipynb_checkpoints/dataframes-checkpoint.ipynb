{
 "cells": [
  {
   "cell_type": "markdown",
   "metadata": {},
   "source": [
    "# Obtención de los DataFrames"
   ]
  },
  {
   "cell_type": "code",
   "execution_count": null,
   "metadata": {},
   "outputs": [],
   "source": [
    "# Importar todo lo necesario\n",
    "\n",
    "import numpy as np\n",
    "import pandas as pd\n",
    "import scipy as sp\n",
    "from lightfm import LightFM\n",
    "from lightfm.evaluation import precision_at_k"
   ]
  },
  {
   "cell_type": "markdown",
   "metadata": {},
   "source": [
    "### DataFrame de MovieLens\n",
    "\n",
    "Se obtiene el DataFrame del conjunto de datos de MovieLens y se comprueba rápidamente es compatible con el modelo de LightFM."
   ]
  },
  {
   "cell_type": "code",
   "execution_count": null,
   "metadata": {},
   "outputs": [],
   "source": [
    "# Obtención del dataframe\n",
    "movielens_dataframe = pd.read_csv('/Users/raulnegro/Desktop/data.csv', \n",
    "    delim_whitespace=True, names=['Id Usuario','Id Película','Valoración','Fecha']).set_index('Id Usuario')\n",
    "\n",
    "# Descomentar para comprobar que el dataframe se ha obtenido correctamente\n",
    "movielens_dataframe\n",
    "\n",
    "# Comprobación con LightFM\n",
    "model = LightFM(loss='warp')\n",
    "model.fit(sp.sparse.csr_matrix(movielens_dataframe.values), epochs=30, num_threads=2)\n",
    "test_precision = precision_at_k(model, sp.sparse.csr_matrix(movielens_dataframe.values), k=5).mean()\n",
    "test_precision"
   ]
  },
  {
   "cell_type": "code",
   "execution_count": null,
   "metadata": {},
   "outputs": [],
   "source": []
  }
 ],
 "metadata": {
  "kernelspec": {
   "display_name": "Python 3",
   "language": "python",
   "name": "python3"
  },
  "language_info": {
   "codemirror_mode": {
    "name": "ipython",
    "version": 3
   },
   "file_extension": ".py",
   "mimetype": "text/x-python",
   "name": "python",
   "nbconvert_exporter": "python",
   "pygments_lexer": "ipython3",
   "version": "3.7.0"
  }
 },
 "nbformat": 4,
 "nbformat_minor": 2
}
