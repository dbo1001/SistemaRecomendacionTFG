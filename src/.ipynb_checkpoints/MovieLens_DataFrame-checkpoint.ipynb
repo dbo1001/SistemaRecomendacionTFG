{
 "cells": [
  {
   "cell_type": "markdown",
   "metadata": {},
   "source": [
    "# Obtención de los DataFrames de MovieLens"
   ]
  },
  {
   "cell_type": "code",
   "execution_count": null,
   "metadata": {},
   "outputs": [],
   "source": [
    "# Importar todo lo necesario\n",
    "import numpy as np\n",
    "import pandas as pd\n",
    "import scipy as sp\n",
    "from lightfm import LightFM\n",
    "from lightfm.evaluation import precision_at_k"
   ]
  },
  {
   "cell_type": "markdown",
   "metadata": {},
   "source": [
    "### DataFrame de MovieLens\n",
    "\n",
    "Se trata de obtener varios DataFrames del conjunto de datos de MovieLens que puedan ser compatibles con la librería de LightFM."
   ]
  },
  {
   "cell_type": "code",
   "execution_count": null,
   "metadata": {},
   "outputs": [],
   "source": [
    "# Obtención del dataframe de data\n",
    "data_df = pd.read_csv('data/ml_data.csv', delim_whitespace=True, names=['Id Usuario','Id Película','Valoración','Fecha'])\n",
    "\n",
    "# Descomentar para comprobar que el dataframe se ha obtenido correctamente\n",
    "#data_df\n",
    "\n",
    "# Obtención del dataframe de ml_items\n",
    "items_df = pd.read_csv('data/ml_items.csv', sep='|',\n",
    "    names=['Id Película','Título','Fecha de estreno','Fecha DVD','iMDB','Género desconocido','Acción','Aventura','Animación','Infantil','Comedia', 'Crimen','Docuemntal','Drama','Fantasía','Cine negro','Horror','Musical','Misterio','Romance','Ciencia ficción','Thriller','Bélico','Western'],\n",
    "    encoding='latin-1')\n",
    "\n",
    "# Descomentar para comprobar que el dataframe se ha obtenido correctamente\n",
    "#items_df\n",
    "\n",
    "# Junto los dos dataframes\n",
    "df = pd.merge(data_df, items_df.drop_duplicates(['Id Película']), on=\"Id Película\", how=\"left\")\n",
    "\n",
    "# Descomentar para comprobar que el dataframe se ha obtenido correctamente\n",
    "df.head()"
   ]
  },
  {
   "cell_type": "code",
   "execution_count": null,
   "metadata": {},
   "outputs": [],
   "source": [
    "# Obtención de un primer modelo y de su precisión con LightFM\n",
    "model = LightFM(loss='warp')\n",
    "model.fit(sp.sparse.csr_matrix(data_df.values), epochs=30, num_threads=2)\n",
    "test_precision = precision_at_k(model, sp.sparse.csr_matrix(data_df.values), k=5).mean()\n",
    "test_precision"
   ]
  },
  {
   "cell_type": "code",
   "execution_count": null,
   "metadata": {},
   "outputs": [],
   "source": [
    "# Obtención de las predicciones del primer modelo\n",
    "scores = model.predict([3], np.arange(4))\n",
    "top_items = df['Título'][np.argsort(-scores)]\n",
    "print(top_items)"
   ]
  },
  {
   "cell_type": "code",
   "execution_count": null,
   "metadata": {},
   "outputs": [],
   "source": [
    "# Obtención del dataframe train\n",
    "train_df = pd.read_csv('data/train.csv', \n",
    "    delim_whitespace=True, names=['Id Usuario','Id Película','Valoración','Fecha']).drop('Fecha', axis=1)\n",
    "#train_df\n",
    "\n",
    "# Obtención del dataframe test\n",
    "test_df = pd.read_csv('data/test.csv', delim_whitespace=True, names=['Id Usuario','Id Película','Valoración','Fecha'])\n",
    "#test_df"
   ]
  },
  {
   "cell_type": "code",
   "execution_count": null,
   "metadata": {},
   "outputs": [],
   "source": [
    "# Obtención de un segundo modelo y de su precisión con LightFM\n",
    "model_2 = LightFM(loss='warp')\n",
    "model_2.fit(sp.sparse.csr_matrix(train_df.values), epochs=30, num_threads=2)\n",
    "test_precision = precision_at_k(model_2, sp.sparse.csr_matrix(train_df.values), k=5).mean()\n",
    "test_precision"
   ]
  },
  {
   "cell_type": "code",
   "execution_count": null,
   "metadata": {},
   "outputs": [],
   "source": [
    "# Obtención de las predicciones del segundo modelo\n",
    "scores = model_2.predict(5, np.arange(3))\n",
    "top_items = ml_items_df['Título'][np.argsort(-scores)]\n",
    "print(top_items)"
   ]
  },
  {
   "cell_type": "code",
   "execution_count": null,
   "metadata": {},
   "outputs": [],
   "source": []
  }
 ],
 "metadata": {
  "kernelspec": {
   "display_name": "Python 3",
   "language": "python",
   "name": "python3"
  },
  "language_info": {
   "codemirror_mode": {
    "name": "ipython",
    "version": 3
   },
   "file_extension": ".py",
   "mimetype": "text/x-python",
   "name": "python",
   "nbconvert_exporter": "python",
   "pygments_lexer": "ipython3",
   "version": "3.7.0"
  }
 },
 "nbformat": 4,
 "nbformat_minor": 2
}
