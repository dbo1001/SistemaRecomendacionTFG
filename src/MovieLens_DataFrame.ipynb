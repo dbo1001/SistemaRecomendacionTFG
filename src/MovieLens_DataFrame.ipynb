{
 "cells": [
  {
   "cell_type": "markdown",
   "metadata": {},
   "source": [
    "# Obtención de los DataFrames"
   ]
  },
  {
   "cell_type": "code",
   "execution_count": null,
   "metadata": {},
   "outputs": [],
   "source": [
    "# Importar todo lo necesario\n",
    "\n",
    "import numpy as np\n",
    "import pandas as pd\n",
    "import scipy as sp\n",
    "from lightfm import LightFM\n",
    "from lightfm.evaluation import precision_at_k"
   ]
  },
  {
   "cell_type": "markdown",
   "metadata": {},
   "source": [
    "### DataFrame de MovieLens\n",
    "\n",
    "Se obtiene el DataFrame del conjunto de datos de MovieLens y se comprueba rápidamente es compatible con el modelo de LightFM."
   ]
  },
  {
   "cell_type": "code",
   "execution_count": null,
   "metadata": {},
   "outputs": [],
   "source": [
    "# Obtención del dataframe de ml_data\n",
    "ml_data_df = pd.read_csv('/Users/raulnegro/Google Drive/GitHub/SistemaRecomendacionTFG/data/ml_data.csv', \n",
    "    delim_whitespace=True, names=['Id Usuario','Id Película','Valoración','Fecha'])\n",
    "\n",
    "# Descomentar para comprobar que el dataframe se ha obtenido correctamente\n",
    "#ml_data_df\n",
    "\n",
    "# Obtención del dataframe de ml_items\n",
    "ml_items_df = pd.read_csv('/Users/raulnegro/Google Drive/GitHub/SistemaRecomendacionTFG/data/ml_items.csv',\n",
    "    sep='|', names=['Id Película','Título','Fecha de estreno','Fecha DVD','iMDB','Género desconocido','Acción','Aventura','Animación','Infantil','Comedia', 'Crimen','Docuemntal','Drama','Fantasía','Cine negro','Horror','Musical','Misterio','Romance','Ciencia ficción','Thriller','Bélico','Western'],\n",
    "    encoding='latin-1')\n",
    "\n",
    "# Descomentar para comprobar que el dataframe se ha obtenido correctamente\n",
    "#ml_items_df\n",
    "\n",
    "# Junto los dos dataframes\n",
    "ml_df = pd.merge(ml_data_df, ml_items_df.drop_duplicates(['Id Película']), on=\"Id Película\", how=\"left\")\n",
    "\n",
    "# Descomentar para comprobar que el dataframe se ha obtenido correctamente\n",
    "#ml_df.head()\n",
    "\n",
    "ml_df_2 = ml_df.groupby('Id Usuario').agg(lambda x: list(x))\n",
    "ml_df_2.head()\n"
   ]
  },
  {
   "cell_type": "code",
   "execution_count": null,
   "metadata": {},
   "outputs": [],
   "source": [
    "# Comprobación de la precisión con LightFM\n",
    "model = LightFM(loss='warp')\n",
    "model.fit(sp.sparse.csr_matrix(ml_data_df.values), epochs=30, num_threads=2)\n",
    "test_precision = precision_at_k(model, sp.sparse.csr_matrix(ml_data_df.values), k=5).mean()\n",
    "test_precision"
   ]
  },
  {
   "cell_type": "code",
   "execution_count": null,
   "metadata": {},
   "outputs": [],
   "source": [
    "scores = model.predict([3], np.arange(4))\n",
    "top_items = ml_df['Título'][np.argsort(-scores)]\n",
    "print(top_items)"
   ]
  },
  {
   "cell_type": "code",
   "execution_count": null,
   "metadata": {},
   "outputs": [],
   "source": []
  }
 ],
 "metadata": {
  "kernelspec": {
   "display_name": "Python 3",
   "language": "python",
   "name": "python3"
  },
  "language_info": {
   "codemirror_mode": {
    "name": "ipython",
    "version": 3
   },
   "file_extension": ".py",
   "mimetype": "text/x-python",
   "name": "python",
   "nbconvert_exporter": "python",
   "pygments_lexer": "ipython3",
   "version": "3.7.0"
  }
 },
 "nbformat": 4,
 "nbformat_minor": 2
}
