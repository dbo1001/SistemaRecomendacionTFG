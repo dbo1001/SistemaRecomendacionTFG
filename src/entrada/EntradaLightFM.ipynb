{
 "cells": [
  {
   "cell_type": "markdown",
   "metadata": {},
   "source": [
    "# Entrada LightFM   \n",
    "En este notebook obtengo los dataframe que el modelo utilizará a partir de los conjuntos de datos"
   ]
  },
  {
   "cell_type": "code",
   "execution_count": 1,
   "metadata": {
    "collapsed": true
   },
   "outputs": [],
   "source": [
    "# Importar todo lo necesario\n",
    "import os\n",
    "import pandas as pd"
   ]
  },
  {
   "cell_type": "markdown",
   "metadata": {},
   "source": [
    "## MovieLens"
   ]
  },
  {
   "cell_type": "code",
   "execution_count": 2,
   "metadata": {
    "collapsed": true
   },
   "outputs": [],
   "source": [
    "# Obtención del path de los archivos\n",
    "ml_data_path = os.path.join(os.path.expanduser('~'), 'Downloads', 'DatasetsTFG', 'Movielens', 'ml_data.csv')\n",
    "ml_users_path = os.path.join(os.path.expanduser('~'), 'Downloads', 'DatasetsTFG', 'Movielens', 'ml_users.csv')\n",
    "ml_items_path = os.path.join(os.path.expanduser('~'), 'Downloads', 'DatasetsTFG', 'Movielens', 'ml_items.csv')"
   ]
  },
  {
   "cell_type": "code",
   "execution_count": 3,
   "metadata": {
    "collapsed": true
   },
   "outputs": [],
   "source": [
    "# Obtención del dataframe de datos\n",
    "ml_data_df = pd.read_csv(ml_data_path, delim_whitespace=True, names=['Id Usuario','Id Película','Valoración','Fecha'])\n",
    "ml_data_df.sort_values(['Id Usuario', 'Id Película'], inplace=True)\n",
    "\n",
    "# Obtención del dataframe de usuarios\n",
    "ml_users_df = pd.read_csv(ml_users_path, sep='|', names=['Id Usuario', 'Edad', 'Género', 'Ocupación', 'Código Postal'])\n",
    "\n",
    "# Obtención del dataframe de items\n",
    "ml_items_df = pd.read_csv(ml_items_path, sep='|',\n",
    "    names=['Id Película','Título','Fecha de estreno','Fecha DVD','iMDB','Género desconocido','Acción','Aventura',\n",
    "           'Animación','Infantil','Comedia', 'Crimen','Docuemntal','Drama','Fantasía','Cine negro',\n",
    "           'Horror','Musical','Misterio','Romance','Ciencia ficción','Thriller','Bélico','Western'],\n",
    "    encoding='latin-1')"
   ]
  },
  {
   "cell_type": "code",
   "execution_count": 4,
   "metadata": {},
   "outputs": [
    {
     "name": "stdout",
     "output_type": "stream",
     "text": [
      "Stored 'ml_data_df' (DataFrame)\n",
      "Stored 'ml_users_df' (DataFrame)\n",
      "Stored 'ml_items_df' (DataFrame)\n"
     ]
    }
   ],
   "source": [
    "# Guardo los dataframe para obtener los modelos en ModeloLightFM\n",
    "%store ml_data_df\n",
    "%store ml_users_df\n",
    "%store ml_items_df"
   ]
  },
  {
   "cell_type": "markdown",
   "metadata": {},
   "source": [
    "## Anime"
   ]
  },
  {
   "cell_type": "code",
   "execution_count": 5,
   "metadata": {
    "collapsed": true
   },
   "outputs": [],
   "source": [
    "# Obtención del path de los archivos\n",
    "anime_items_path = os.path.join(os.path.expanduser('~'), 'Downloads', 'DatasetsTFG', 'Anime', 'anime.csv')\n",
    "anime_data_1_path = os.path.join(os.path.expanduser('~'), 'Downloads', 'DatasetsTFG', 'Anime', 'ratings1.csv')\n",
    "anime_data_2_path = os.path.join(os.path.expanduser('~'), 'Downloads', 'DatasetsTFG', 'Anime', 'ratings2.csv')\n",
    "anime_data_3_path = os.path.join(os.path.expanduser('~'), 'Downloads', 'DatasetsTFG', 'Anime', 'ratings3.csv')\n",
    "anime_data_4_path = os.path.join(os.path.expanduser('~'), 'Downloads', 'DatasetsTFG', 'Anime', 'ratings4.csv')"
   ]
  },
  {
   "cell_type": "code",
   "execution_count": 6,
   "metadata": {
    "collapsed": true
   },
   "outputs": [],
   "source": [
    "# Obtención del dataframe de items\n",
    "anime_items_df = pd.read_csv(anime_items_path, sep=',', \n",
    "                             names=['Id Anime', 'Título', 'Género', 'Tipo', 'Episodios', 'Valoración Media', 'Miembros'])\n",
    "anime_items_df.sort_values(['Id Anime'], inplace=True)\n",
    "\n",
    "# Obtención del dataframe de datos\n",
    "anime_data_1_df = pd.read_csv(anime_data_1_path, sep=',', names=['Id Usuario', 'Id Anime', 'Valoración'], low_memory=False)\n",
    "anime_data_2_df = pd.read_csv(anime_data_2_path, sep=',', names=['Id Usuario', 'Id Anime', 'Valoración'], low_memory=False)\n",
    "anime_data_3_df = pd.read_csv(anime_data_3_path, sep=',', names=['Id Usuario', 'Id Anime', 'Valoración'], low_memory=False)\n",
    "anime_data_4_df = pd.read_csv(anime_data_4_path, sep=',', names=['Id Usuario', 'Id Anime', 'Valoración'], low_memory=False)\n",
    "anime_data_df = pd.concat([anime_data_1_df, anime_data_2_df, anime_data_3_df, anime_data_4_df])"
   ]
  },
  {
   "cell_type": "code",
   "execution_count": 7,
   "metadata": {},
   "outputs": [
    {
     "name": "stdout",
     "output_type": "stream",
     "text": [
      "Stored 'anime_data_df' (DataFrame)\n",
      "Stored 'anime_items_df' (DataFrame)\n"
     ]
    }
   ],
   "source": [
    "# Guardo los dataframe para obtener los modelos en ModeloLightFM\n",
    "%store anime_data_df\n",
    "%store anime_items_df"
   ]
  },
  {
   "cell_type": "markdown",
   "metadata": {},
   "source": [
    "## Book-Crossing"
   ]
  },
  {
   "cell_type": "code",
   "execution_count": 8,
   "metadata": {
    "collapsed": true
   },
   "outputs": [],
   "source": [
    "# Obtención del path de los archivos\n",
    "bc_data_path = os.path.join(os.path.expanduser('~'), 'Downloads', 'DatasetsTFG', 'Book-Crossing', 'BX-Book-Ratings.csv')\n",
    "bc_users_path = os.path.join(os.path.expanduser('~'), 'Downloads', 'DatasetsTFG', 'Book-Crossing', 'BX-Users.csv')\n",
    "bc_items_path = os.path.join(os.path.expanduser('~'), 'Downloads', 'DatasetsTFG', 'Book-Crossing', 'BX-Books.csv')"
   ]
  },
  {
   "cell_type": "code",
   "execution_count": 9,
   "metadata": {
    "collapsed": true
   },
   "outputs": [],
   "source": [
    "# Obtención del dataframe de datos\n",
    "bc_data_df = pd.read_csv(bc_data_path, sep=';', names=['Id Usuario','ISBN','Valoración'], encoding='cp1252', low_memory=False)\n",
    "bc_data_df.sort_values(['Id Usuario'], inplace=True)\n",
    "\n",
    "# Obtención del dataframe de usuarios\n",
    "bc_users_df = pd.read_csv(bc_users_path, sep=';', names=['Id Usuario', 'Residencia', 'Edad'], encoding='cp1252')\n",
    "bc_users_df = bc_users_df.fillna(0)\n",
    "\n",
    "# Obtención del dataframe de items\n",
    "bc_items_df = pd.read_csv(bc_items_path, sep=';', \n",
    "                          names=['ISBN','Título','Autor','Fecha de publicación','Editorial','URL S','URL M','URL L'], \n",
    "                          encoding='cp1252', low_memory=False)"
   ]
  },
  {
   "cell_type": "code",
   "execution_count": 10,
   "metadata": {},
   "outputs": [
    {
     "name": "stdout",
     "output_type": "stream",
     "text": [
      "Stored 'bc_data_df' (DataFrame)\n",
      "Stored 'bc_users_df' (DataFrame)\n",
      "Stored 'bc_items_df' (DataFrame)\n"
     ]
    }
   ],
   "source": [
    "# Guardo los dataframe para obtener los modelos en ModeloLightFM\n",
    "%store bc_data_df\n",
    "%store bc_users_df\n",
    "%store bc_items_df"
   ]
  },
  {
   "cell_type": "markdown",
   "metadata": {},
   "source": [
    "## LastFM"
   ]
  },
  {
   "cell_type": "code",
   "execution_count": 29,
   "metadata": {
    "collapsed": true
   },
   "outputs": [],
   "source": [
    "# Obtención del path de los archivos\n",
    "lf_data_path = os.path.join(os.path.expanduser('~'), 'Downloads', 'DatasetsTFG', 'Last.FM', 'user_artists.csv')\n",
    "lf_users_path = os.path.join(os.path.expanduser('~'), 'Downloads', 'DatasetsTFG', 'Last.FM', 'user_friends.csv')\n",
    "lf_artists_path = os.path.join(os.path.expanduser('~'), 'Downloads', 'DatasetsTFG', 'Last.FM', 'artists.csv')\n",
    "lf_generos_path = os.path.join(os.path.expanduser('~'), 'Downloads', 'DatasetsTFG', 'Last.FM', \n",
    "                               'user_taggedartists-timestamps.csv')"
   ]
  },
  {
   "cell_type": "code",
   "execution_count": 30,
   "metadata": {
    "collapsed": true
   },
   "outputs": [],
   "source": [
    "# Obtención del dataframe de datos\n",
    "lf_data_df = pd.read_csv(lf_data_path, sep='\\t', names=['Id Usuario','Id Artista','Veces escuchado'])\n",
    "\n",
    "# Obtención del dataframe de usuarios\n",
    "lf_users_df = pd.read_csv(lf_users_path, sep='\\t', names=['Id Usuario', 'Id Amigo'])\n",
    "\n",
    "# Obtención del dataframe de items\n",
    "lf_artists_df = pd.read_csv(lf_artists_path, sep='\\t', names=['Id Artista','Nombre','URL','URL Foto'])\n",
    "lf_artists_df = lf_artists_df.drop(['URL', 'URL Foto'], axis=1)\n",
    "lf_generos_df = pd.read_csv(lf_generos_path, sep='\\t', names=['Id Usuario','Id Artista','Id Genero','Timestamp'])\n",
    "lf_generos_df = lf_generos_df.drop(['Id Usuario', 'Timestamp'], axis=1)\n",
    "lf_items_df = lf_artists_df.merge(lf_generos_df, left_on='Id Artista', right_on='Id Artista') "
   ]
  },
  {
   "cell_type": "code",
   "execution_count": 34,
   "metadata": {},
   "outputs": [
    {
     "name": "stdout",
     "output_type": "stream",
     "text": [
      "Stored 'lf_data_df' (DataFrame)\n",
      "Stored 'lf_users_df' (DataFrame)\n",
      "Stored 'lf_items_df' (DataFrame)\n"
     ]
    }
   ],
   "source": [
    "# Guardo los dataframe para obtener los modelos en ModeloLightFM\n",
    "%store lf_data_df\n",
    "%store lf_users_df\n",
    "%store lf_items_df"
   ]
  },
  {
   "cell_type": "markdown",
   "metadata": {},
   "source": [
    "## Dating Agency"
   ]
  },
  {
   "cell_type": "code",
   "execution_count": 35,
   "metadata": {
    "collapsed": true
   },
   "outputs": [],
   "source": [
    "# Obtención del path de los archivos\n",
    "dating_data_path = os.path.join(os.path.expanduser('~'), 'Downloads', 'DatasetsTFG', 'DatingAgency', 'ratings.csv')\n",
    "dating_users_path = os.path.join(os.path.expanduser('~'), 'Downloads', 'DatasetsTFG', 'DatingAgency', 'gender.csv')"
   ]
  },
  {
   "cell_type": "code",
   "execution_count": 36,
   "metadata": {
    "collapsed": true
   },
   "outputs": [],
   "source": [
    "# Obtención del dataframe de datos\n",
    "dating_data_df = pd.read_csv(dating_data_path, sep=',', names=['Id Usuario', 'Id Match', 'Valoración'], engine='python')\n",
    "\n",
    "# Obtención del dataframe de usuarios/items\n",
    "dating_users_df = pd.read_csv(dating_users_path, sep=',', names=['Id Usuario', 'Género'], engine='python')"
   ]
  },
  {
   "cell_type": "code",
   "execution_count": 38,
   "metadata": {},
   "outputs": [
    {
     "name": "stdout",
     "output_type": "stream",
     "text": [
      "Stored 'dating_data_df' (DataFrame)\n",
      "Stored 'dating_users_df' (DataFrame)\n"
     ]
    }
   ],
   "source": [
    "# Guardo los dataframe para obtener los modelos en ModeloLightFM\n",
    "%store dating_data_df\n",
    "%store dating_users_df"
   ]
  }
 ],
 "metadata": {
  "kernelspec": {
   "display_name": "Python 3",
   "language": "python",
   "name": "python3"
  },
  "language_info": {
   "codemirror_mode": {
    "name": "ipython",
    "version": 3
   },
   "file_extension": ".py",
   "mimetype": "text/x-python",
   "name": "python",
   "nbconvert_exporter": "python",
   "pygments_lexer": "ipython3",
   "version": "3.6.8"
  }
 },
 "nbformat": 4,
 "nbformat_minor": 2
}
